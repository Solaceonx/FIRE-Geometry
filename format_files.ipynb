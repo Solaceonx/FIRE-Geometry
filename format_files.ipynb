{
 "cells": [
  {
   "cell_type": "code",
   "execution_count": 1,
   "id": "63d3a5a7-e2be-4c00-87b8-16dcfe08ce33",
   "metadata": {},
   "outputs": [],
   "source": [
    "import pandas as pd\n",
    "import os\n",
    "import pandas as pd\n",
    "import os\n",
    "\n",
    "def combine_csv_files_in_folder(folder_path, output_path):\n",
    "    \"\"\"\n",
    "    Combines all CSV files in a specified folder into a single CSV file.\n",
    "\n",
    "    Parameters:\n",
    "    folder_path (str): Path to the folder containing CSV files.\n",
    "    output_path (str): Path to the output CSV file.\n",
    "\n",
    "    Returns:\n",
    "    None\n",
    "    \"\"\"\n",
    "    # List to hold dataframes\n",
    "    dataframes = []\n",
    "\n",
    "    # Iterate over all files in the folder\n",
    "    for file_name in os.listdir(folder_path):\n",
    "        # Construct full file path\n",
    "        file_path = os.path.join(folder_path, file_name)\n",
    "        # Check if the file is a CSV\n",
    "        if os.path.isfile(file_path) and file_name.endswith('.csv'):\n",
    "            df = pd.read_csv(file_path)\n",
    "            dataframes.append(df)\n",
    "        else:\n",
    "            print(f\"File {file_path} is not a CSV. Skipping.\")\n",
    "\n",
    "    # Concatenate all dataframes\n",
    "    combined_df = pd.concat(dataframes, ignore_index=True)\n",
    "\n",
    "    # Write the combined dataframe to a new CSV file\n",
    "    combined_df.to_csv(output_path, index=False)\n",
    "    print(f\"Combined CSV file saved to {output_path}\")\n"
   ]
  },
  {
   "cell_type": "code",
   "execution_count": 3,
   "id": "ddaadfbe-bac1-4130-a33a-99ec387df3e5",
   "metadata": {},
   "outputs": [
    {
     "name": "stdout",
     "output_type": "stream",
     "text": [
      "Combined CSV file saved to m12_redshift_shapes/FIRE_m12_juliet.csv\n"
     ]
    }
   ],
   "source": [
    "# Example usage\n",
    "folder_path = 'm12_redshift_shapes/juliet'\n",
    "output_path = 'm12_redshift_shapes/FIRE_m12_juliet.csv'\n",
    "\n",
    "combine_csv_files_in_folder(folder_path, output_path)"
   ]
  },
  {
   "cell_type": "code",
   "execution_count": 2,
   "id": "2a2179eb-bc78-488e-9006-056f50f7da5b",
   "metadata": {},
   "outputs": [
    {
     "name": "stdout",
     "output_type": "stream",
     "text": [
      "File m12_redshift_shapes/m12b/.ipynb_checkpoints is not a CSV. Skipping.\n",
      "Combined CSV file saved to m12_redshift_shapes/FIRE_m12b.csv\n"
     ]
    }
   ],
   "source": [
    "# Example usage\n",
    "folder_path = 'm12_redshift_shapes/m12b'\n",
    "output_path = 'm12_redshift_shapes/FIRE_m12b.csv'\n",
    "\n",
    "combine_csv_files_in_folder(folder_path, output_path)"
   ]
  },
  {
   "cell_type": "code",
   "execution_count": 5,
   "id": "4f45bc41-9cc4-4f33-9853-e66956f0f1c9",
   "metadata": {},
   "outputs": [
    {
     "name": "stdout",
     "output_type": "stream",
     "text": [
      "File m12_redshift_shapes/m12c/.ipynb_checkpoints is not a CSV. Skipping.\n",
      "Combined CSV file saved to m12_redshift_shapes/FIRE_m12c.csv\n"
     ]
    }
   ],
   "source": [
    "# Example usage\n",
    "folder_path = 'm12_redshift_shapes/m12c'\n",
    "output_path = 'm12_redshift_shapes/FIRE_m12c.csv'\n",
    "\n",
    "combine_csv_files_in_folder(folder_path, output_path)"
   ]
  },
  {
   "cell_type": "code",
   "execution_count": 6,
   "id": "206fe24d-bd0f-4614-a3ac-edd6e32162f2",
   "metadata": {},
   "outputs": [
    {
     "name": "stdout",
     "output_type": "stream",
     "text": [
      "File m12_redshift_shapes/m12f/.ipynb_checkpoints is not a CSV. Skipping.\n",
      "Combined CSV file saved to m12_redshift_shapes/FIRE_m12f.csv\n"
     ]
    }
   ],
   "source": [
    "# Example usage\n",
    "folder_path = 'm12_redshift_shapes/m12f'\n",
    "output_path = 'm12_redshift_shapes/FIRE_m12f.csv'\n",
    "\n",
    "combine_csv_files_in_folder(folder_path, output_path)"
   ]
  },
  {
   "cell_type": "code",
   "execution_count": 7,
   "id": "f9f65b22-2af8-45d0-a668-427a4d5b102c",
   "metadata": {},
   "outputs": [
    {
     "name": "stdout",
     "output_type": "stream",
     "text": [
      "File m12_redshift_shapes/m12b_01/.ipynb_checkpoints is not a CSV. Skipping.\n",
      "Combined CSV file saved to m12_redshift_shapes/FIRE_m12b_01.csv\n"
     ]
    }
   ],
   "source": [
    "# Example usage\n",
    "folder_path = 'm12_redshift_shapes/m12b_01'\n",
    "output_path = 'm12_redshift_shapes/FIRE_m12b_01.csv'\n",
    "\n",
    "combine_csv_files_in_folder(folder_path, output_path)"
   ]
  },
  {
   "cell_type": "code",
   "execution_count": 8,
   "id": "84457afa-6f87-472d-a62a-6252b5966f70",
   "metadata": {},
   "outputs": [
    {
     "name": "stdout",
     "output_type": "stream",
     "text": [
      "File m12_redshift_shapes/romeo/.ipynb_checkpoints is not a CSV. Skipping.\n",
      "Combined CSV file saved to m12_redshift_shapes/FIRE_m12_romeo.csv\n"
     ]
    }
   ],
   "source": [
    "# Example usage\n",
    "folder_path = 'm12_redshift_shapes/romeo'\n",
    "output_path = 'm12_redshift_shapes/FIRE_m12_romeo.csv'\n",
    "\n",
    "combine_csv_files_in_folder(folder_path, output_path)"
   ]
  },
  {
   "cell_type": "code",
   "execution_count": 2,
   "id": "60ec51f5-5f06-48fc-810c-0a40d83da4f1",
   "metadata": {},
   "outputs": [
    {
     "name": "stdout",
     "output_type": "stream",
     "text": [
      "File m12_redshift_shapes/m12m/.ipynb_checkpoints is not a CSV. Skipping.\n",
      "Combined CSV file saved to m12_redshift_shapes/FIRE_m12m.csv\n",
      "File m12_redshift_shapes/m12r/.ipynb_checkpoints is not a CSV. Skipping.\n",
      "Combined CSV file saved to m12_redshift_shapes/FIRE_m12r.csv\n",
      "File m12_redshift_shapes/m12w/.ipynb_checkpoints is not a CSV. Skipping.\n",
      "Combined CSV file saved to m12_redshift_shapes/FIRE_m12w.csv\n",
      "File m12_redshift_shapes/m12z/.ipynb_checkpoints is not a CSV. Skipping.\n",
      "Combined CSV file saved to m12_redshift_shapes/FIRE_m12z.csv\n"
     ]
    }
   ],
   "source": [
    "# Example usage\n",
    "folder_path = 'm12_redshift_shapes/m12m'\n",
    "output_path = 'm12_redshift_shapes/FIRE_m12m.csv'\n",
    "\n",
    "combine_csv_files_in_folder(folder_path, output_path)\n",
    "# Example usage\n",
    "folder_path = 'm12_redshift_shapes/m12r'\n",
    "output_path = 'm12_redshift_shapes/FIRE_m12r.csv'\n",
    "\n",
    "combine_csv_files_in_folder(folder_path, output_path)\n",
    "# Example usage\n",
    "folder_path = 'm12_redshift_shapes/m12w'\n",
    "output_path = 'm12_redshift_shapes/FIRE_m12w.csv'\n",
    "\n",
    "combine_csv_files_in_folder(folder_path, output_path)\n",
    "# Example usage\n",
    "folder_path = 'm12_redshift_shapes/m12z'\n",
    "output_path = 'm12_redshift_shapes/FIRE_m12z.csv'\n",
    "\n",
    "combine_csv_files_in_folder(folder_path, output_path)\n",
    "    "
   ]
  },
  {
   "cell_type": "code",
   "execution_count": 6,
   "id": "66b2c6cf-03ba-4b5b-94dd-b9815dcae790",
   "metadata": {},
   "outputs": [
    {
     "name": "stdout",
     "output_type": "stream",
     "text": [
      "File m12_redshift_shapes/m12b_05/.ipynb_checkpoints is not a CSV. Skipping.\n",
      "Combined CSV file saved to m12_redshift_shapes/FIRE_m12b_05.csv\n",
      "File m12_redshift_shapes/m12c_05/.ipynb_checkpoints is not a CSV. Skipping.\n",
      "Combined CSV file saved to m12_redshift_shapes/FIRE_m12c_05.csv\n",
      "File m12_redshift_shapes/m12f_05/.ipynb_checkpoints is not a CSV. Skipping.\n",
      "Combined CSV file saved to m12_redshift_shapes/FIRE_m12f_05.csv\n",
      "File m12_redshift_shapes/romeo_05/.ipynb_checkpoints is not a CSV. Skipping.\n",
      "Combined CSV file saved to m12_redshift_shapes/FIRE_m12_romeo_05.csv\n"
     ]
    }
   ],
   "source": [
    "folder_path = 'm12_redshift_shapes/m12b_05'\n",
    "output_path = 'm12_redshift_shapes/FIRE_m12b_05.csv'\n",
    "combine_csv_files_in_folder(folder_path, output_path)\n",
    "\n",
    "folder_path = 'm12_redshift_shapes/m12c_05'\n",
    "output_path = 'm12_redshift_shapes/FIRE_m12c_05.csv'\n",
    "combine_csv_files_in_folder(folder_path, output_path)\n",
    "\n",
    "folder_path = 'm12_redshift_shapes/m12f_05'\n",
    "output_path = 'm12_redshift_shapes/FIRE_m12f_05.csv'\n",
    "combine_csv_files_in_folder(folder_path, output_path)\n",
    "\n",
    "folder_path = 'm12_redshift_shapes/romeo_05'\n",
    "output_path = 'm12_redshift_shapes/FIRE_m12_romeo_05.csv'\n",
    "combine_csv_files_in_folder(folder_path, output_path)\n",
    "\n"
   ]
  },
  {
   "cell_type": "code",
   "execution_count": 8,
   "id": "c7f64702-0bdc-49e5-a643-aece7f5510a0",
   "metadata": {},
   "outputs": [
    {
     "name": "stdout",
     "output_type": "stream",
     "text": [
      "File m12_redshift_shapes/m12b_01/.ipynb_checkpoints is not a CSV. Skipping.\n",
      "Combined CSV file saved to m12_redshift_shapes/FIRE_m12b_01.csv\n",
      "File m12_redshift_shapes/m12c_01/.ipynb_checkpoints is not a CSV. Skipping.\n",
      "Combined CSV file saved to m12_redshift_shapes/FIRE_m12c_01.csv\n",
      "Combined CSV file saved to m12_redshift_shapes/FIRE_m12f_01.csv\n",
      "File m12_redshift_shapes/romeo_01/.ipynb_checkpoints is not a CSV. Skipping.\n",
      "Combined CSV file saved to m12_redshift_shapes/FIRE_m12_romeo_01.csv\n"
     ]
    },
    {
     "ename": "ValueError",
     "evalue": "No objects to concatenate",
     "output_type": "error",
     "traceback": [
      "\u001b[0;31m---------------------------------------------------------------------------\u001b[0m",
      "\u001b[0;31mValueError\u001b[0m                                Traceback (most recent call last)",
      "Cell \u001b[0;32mIn[8], line 19\u001b[0m\n\u001b[1;32m     17\u001b[0m folder_path \u001b[38;5;241m=\u001b[39m \u001b[38;5;124m'\u001b[39m\u001b[38;5;124mm12_redshift_shapes/juliet_01\u001b[39m\u001b[38;5;124m'\u001b[39m\n\u001b[1;32m     18\u001b[0m output_path \u001b[38;5;241m=\u001b[39m \u001b[38;5;124m'\u001b[39m\u001b[38;5;124mm12_redshift_shapes/FIRE_juliet_01.csv\u001b[39m\u001b[38;5;124m'\u001b[39m\n\u001b[0;32m---> 19\u001b[0m \u001b[43mcombine_csv_files_in_folder\u001b[49m\u001b[43m(\u001b[49m\u001b[43mfolder_path\u001b[49m\u001b[43m,\u001b[49m\u001b[43m \u001b[49m\u001b[43moutput_path\u001b[49m\u001b[43m)\u001b[49m\n",
      "Cell \u001b[0;32mIn[3], line 32\u001b[0m, in \u001b[0;36mcombine_csv_files_in_folder\u001b[0;34m(folder_path, output_path)\u001b[0m\n\u001b[1;32m     29\u001b[0m         \u001b[38;5;28mprint\u001b[39m(\u001b[38;5;124mf\u001b[39m\u001b[38;5;124m\"\u001b[39m\u001b[38;5;124mFile \u001b[39m\u001b[38;5;132;01m{\u001b[39;00mfile_path\u001b[38;5;132;01m}\u001b[39;00m\u001b[38;5;124m is not a CSV. Skipping.\u001b[39m\u001b[38;5;124m\"\u001b[39m)\n\u001b[1;32m     31\u001b[0m \u001b[38;5;66;03m# Concatenate all dataframes\u001b[39;00m\n\u001b[0;32m---> 32\u001b[0m combined_df \u001b[38;5;241m=\u001b[39m \u001b[43mpd\u001b[49m\u001b[38;5;241;43m.\u001b[39;49m\u001b[43mconcat\u001b[49m\u001b[43m(\u001b[49m\u001b[43mdataframes\u001b[49m\u001b[43m,\u001b[49m\u001b[43m \u001b[49m\u001b[43mignore_index\u001b[49m\u001b[38;5;241;43m=\u001b[39;49m\u001b[38;5;28;43;01mTrue\u001b[39;49;00m\u001b[43m)\u001b[49m\n\u001b[1;32m     34\u001b[0m \u001b[38;5;66;03m# Write the combined dataframe to a new CSV file\u001b[39;00m\n\u001b[1;32m     35\u001b[0m combined_df\u001b[38;5;241m.\u001b[39mto_csv(output_path, index\u001b[38;5;241m=\u001b[39m\u001b[38;5;28;01mFalse\u001b[39;00m)\n",
      "File \u001b[0;32m~/miniconda3/envs/morph/lib/python3.9/site-packages/pandas/util/_decorators.py:331\u001b[0m, in \u001b[0;36mdeprecate_nonkeyword_arguments.<locals>.decorate.<locals>.wrapper\u001b[0;34m(*args, **kwargs)\u001b[0m\n\u001b[1;32m    325\u001b[0m \u001b[38;5;28;01mif\u001b[39;00m \u001b[38;5;28mlen\u001b[39m(args) \u001b[38;5;241m>\u001b[39m num_allow_args:\n\u001b[1;32m    326\u001b[0m     warnings\u001b[38;5;241m.\u001b[39mwarn(\n\u001b[1;32m    327\u001b[0m         msg\u001b[38;5;241m.\u001b[39mformat(arguments\u001b[38;5;241m=\u001b[39m_format_argument_list(allow_args)),\n\u001b[1;32m    328\u001b[0m         \u001b[38;5;167;01mFutureWarning\u001b[39;00m,\n\u001b[1;32m    329\u001b[0m         stacklevel\u001b[38;5;241m=\u001b[39mfind_stack_level(),\n\u001b[1;32m    330\u001b[0m     )\n\u001b[0;32m--> 331\u001b[0m \u001b[38;5;28;01mreturn\u001b[39;00m \u001b[43mfunc\u001b[49m\u001b[43m(\u001b[49m\u001b[38;5;241;43m*\u001b[39;49m\u001b[43margs\u001b[49m\u001b[43m,\u001b[49m\u001b[43m \u001b[49m\u001b[38;5;241;43m*\u001b[39;49m\u001b[38;5;241;43m*\u001b[39;49m\u001b[43mkwargs\u001b[49m\u001b[43m)\u001b[49m\n",
      "File \u001b[0;32m~/miniconda3/envs/morph/lib/python3.9/site-packages/pandas/core/reshape/concat.py:368\u001b[0m, in \u001b[0;36mconcat\u001b[0;34m(objs, axis, join, ignore_index, keys, levels, names, verify_integrity, sort, copy)\u001b[0m\n\u001b[1;32m    146\u001b[0m \u001b[38;5;129m@deprecate_nonkeyword_arguments\u001b[39m(version\u001b[38;5;241m=\u001b[39m\u001b[38;5;28;01mNone\u001b[39;00m, allowed_args\u001b[38;5;241m=\u001b[39m[\u001b[38;5;124m\"\u001b[39m\u001b[38;5;124mobjs\u001b[39m\u001b[38;5;124m\"\u001b[39m])\n\u001b[1;32m    147\u001b[0m \u001b[38;5;28;01mdef\u001b[39;00m \u001b[38;5;21mconcat\u001b[39m(\n\u001b[1;32m    148\u001b[0m     objs: Iterable[NDFrame] \u001b[38;5;241m|\u001b[39m Mapping[HashableT, NDFrame],\n\u001b[0;32m   (...)\u001b[0m\n\u001b[1;32m    157\u001b[0m     copy: \u001b[38;5;28mbool\u001b[39m \u001b[38;5;241m=\u001b[39m \u001b[38;5;28;01mTrue\u001b[39;00m,\n\u001b[1;32m    158\u001b[0m ) \u001b[38;5;241m-\u001b[39m\u001b[38;5;241m>\u001b[39m DataFrame \u001b[38;5;241m|\u001b[39m Series:\n\u001b[1;32m    159\u001b[0m \u001b[38;5;250m    \u001b[39m\u001b[38;5;124;03m\"\"\"\u001b[39;00m\n\u001b[1;32m    160\u001b[0m \u001b[38;5;124;03m    Concatenate pandas objects along a particular axis.\u001b[39;00m\n\u001b[1;32m    161\u001b[0m \n\u001b[0;32m   (...)\u001b[0m\n\u001b[1;32m    366\u001b[0m \u001b[38;5;124;03m    1   3   4\u001b[39;00m\n\u001b[1;32m    367\u001b[0m \u001b[38;5;124;03m    \"\"\"\u001b[39;00m\n\u001b[0;32m--> 368\u001b[0m     op \u001b[38;5;241m=\u001b[39m \u001b[43m_Concatenator\u001b[49m\u001b[43m(\u001b[49m\n\u001b[1;32m    369\u001b[0m \u001b[43m        \u001b[49m\u001b[43mobjs\u001b[49m\u001b[43m,\u001b[49m\n\u001b[1;32m    370\u001b[0m \u001b[43m        \u001b[49m\u001b[43maxis\u001b[49m\u001b[38;5;241;43m=\u001b[39;49m\u001b[43maxis\u001b[49m\u001b[43m,\u001b[49m\n\u001b[1;32m    371\u001b[0m \u001b[43m        \u001b[49m\u001b[43mignore_index\u001b[49m\u001b[38;5;241;43m=\u001b[39;49m\u001b[43mignore_index\u001b[49m\u001b[43m,\u001b[49m\n\u001b[1;32m    372\u001b[0m \u001b[43m        \u001b[49m\u001b[43mjoin\u001b[49m\u001b[38;5;241;43m=\u001b[39;49m\u001b[43mjoin\u001b[49m\u001b[43m,\u001b[49m\n\u001b[1;32m    373\u001b[0m \u001b[43m        \u001b[49m\u001b[43mkeys\u001b[49m\u001b[38;5;241;43m=\u001b[39;49m\u001b[43mkeys\u001b[49m\u001b[43m,\u001b[49m\n\u001b[1;32m    374\u001b[0m \u001b[43m        \u001b[49m\u001b[43mlevels\u001b[49m\u001b[38;5;241;43m=\u001b[39;49m\u001b[43mlevels\u001b[49m\u001b[43m,\u001b[49m\n\u001b[1;32m    375\u001b[0m \u001b[43m        \u001b[49m\u001b[43mnames\u001b[49m\u001b[38;5;241;43m=\u001b[39;49m\u001b[43mnames\u001b[49m\u001b[43m,\u001b[49m\n\u001b[1;32m    376\u001b[0m \u001b[43m        \u001b[49m\u001b[43mverify_integrity\u001b[49m\u001b[38;5;241;43m=\u001b[39;49m\u001b[43mverify_integrity\u001b[49m\u001b[43m,\u001b[49m\n\u001b[1;32m    377\u001b[0m \u001b[43m        \u001b[49m\u001b[43mcopy\u001b[49m\u001b[38;5;241;43m=\u001b[39;49m\u001b[43mcopy\u001b[49m\u001b[43m,\u001b[49m\n\u001b[1;32m    378\u001b[0m \u001b[43m        \u001b[49m\u001b[43msort\u001b[49m\u001b[38;5;241;43m=\u001b[39;49m\u001b[43msort\u001b[49m\u001b[43m,\u001b[49m\n\u001b[1;32m    379\u001b[0m \u001b[43m    \u001b[49m\u001b[43m)\u001b[49m\n\u001b[1;32m    381\u001b[0m     \u001b[38;5;28;01mreturn\u001b[39;00m op\u001b[38;5;241m.\u001b[39mget_result()\n",
      "File \u001b[0;32m~/miniconda3/envs/morph/lib/python3.9/site-packages/pandas/core/reshape/concat.py:425\u001b[0m, in \u001b[0;36m_Concatenator.__init__\u001b[0;34m(self, objs, axis, join, keys, levels, names, ignore_index, verify_integrity, copy, sort)\u001b[0m\n\u001b[1;32m    422\u001b[0m     objs \u001b[38;5;241m=\u001b[39m \u001b[38;5;28mlist\u001b[39m(objs)\n\u001b[1;32m    424\u001b[0m \u001b[38;5;28;01mif\u001b[39;00m \u001b[38;5;28mlen\u001b[39m(objs) \u001b[38;5;241m==\u001b[39m \u001b[38;5;241m0\u001b[39m:\n\u001b[0;32m--> 425\u001b[0m     \u001b[38;5;28;01mraise\u001b[39;00m \u001b[38;5;167;01mValueError\u001b[39;00m(\u001b[38;5;124m\"\u001b[39m\u001b[38;5;124mNo objects to concatenate\u001b[39m\u001b[38;5;124m\"\u001b[39m)\n\u001b[1;32m    427\u001b[0m \u001b[38;5;28;01mif\u001b[39;00m keys \u001b[38;5;129;01mis\u001b[39;00m \u001b[38;5;28;01mNone\u001b[39;00m:\n\u001b[1;32m    428\u001b[0m     objs \u001b[38;5;241m=\u001b[39m \u001b[38;5;28mlist\u001b[39m(com\u001b[38;5;241m.\u001b[39mnot_none(\u001b[38;5;241m*\u001b[39mobjs))\n",
      "\u001b[0;31mValueError\u001b[0m: No objects to concatenate"
     ]
    }
   ],
   "source": [
    "folder_path = 'm12_redshift_shapes/m12b_01'\n",
    "output_path = 'm12_redshift_shapes/FIRE_m12b_01.csv'\n",
    "combine_csv_files_in_folder(folder_path, output_path)\n",
    "\n",
    "folder_path = 'm12_redshift_shapes/m12c_01'\n",
    "output_path = 'm12_redshift_shapes/FIRE_m12c_01.csv'\n",
    "combine_csv_files_in_folder(folder_path, output_path)\n",
    "\n",
    "folder_path = 'm12_redshift_shapes/m12f_01'\n",
    "output_path = 'm12_redshift_shapes/FIRE_m12f_01.csv'\n",
    "combine_csv_files_in_folder(folder_path, output_path)\n",
    "\n",
    "folder_path = 'm12_redshift_shapes/romeo_01'\n",
    "output_path = 'm12_redshift_shapes/FIRE_m12_romeo_01.csv'\n",
    "combine_csv_files_in_folder(folder_path, output_path)\n",
    "\n",
    "folder_path = 'm12_redshift_shapes/juliet_01'\n",
    "output_path = 'm12_redshift_shapes/FIRE_juliet_01.csv'\n",
    "combine_csv_files_in_folder(folder_path, output_path)\n",
    " "
   ]
  },
  {
   "cell_type": "code",
   "execution_count": null,
   "id": "b6026715-7fe7-4e92-93fa-7f5370ee8ad7",
   "metadata": {},
   "outputs": [],
   "source": []
  }
 ],
 "metadata": {
  "kernelspec": {
   "display_name": "Python 3 (ipykernel)",
   "language": "python",
   "name": "python3"
  },
  "language_info": {
   "codemirror_mode": {
    "name": "ipython",
    "version": 3
   },
   "file_extension": ".py",
   "mimetype": "text/x-python",
   "name": "python",
   "nbconvert_exporter": "python",
   "pygments_lexer": "ipython3",
   "version": "3.9.18"
  }
 },
 "nbformat": 4,
 "nbformat_minor": 5
}
