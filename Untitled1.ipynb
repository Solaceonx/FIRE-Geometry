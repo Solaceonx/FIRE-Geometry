{
 "cells": [
  {
   "cell_type": "code",
   "execution_count": null,
   "id": "6d8695fc-1f16-4887-9e24-1108bcbf36b6",
   "metadata": {},
   "outputs": [],
   "source": [
    "import plot_galaxy as gplot\n",
    "import mg\n",
    "import galaxy_tools\n",
    "# These snapshots correspond to redshifts of 7, 5, 3, 2, 1, 0.5, 0.1, and 0, respectively. \n",
    "age = 0.1\n",
    "snap_nums = ['020', '029', '059', '088', 102, 214, 294, 332, 412, 446, 486, 590, '041', '067', 120, 172, 277, 382, 534, 600]"
   ]
  },
  {
   "cell_type": "code",
   "execution_count": null,
   "id": "91155d05-1802-4f13-9775-7bb9c8fc3c9c",
   "metadata": {},
   "outputs": [],
   "source": [
    "sim_inputs = [\n",
    "    'm12b_res7100',\n",
    "]\n",
    "for snap_num in snap_nums:\n",
    "    mg.measure_m12(sim_inputs, snap_num = snap_num, age_range = age)"
   ]
  },
  {
   "cell_type": "code",
   "execution_count": null,
   "id": "8d357162-ac51-48c5-98fa-ad03eafd0b60",
   "metadata": {},
   "outputs": [],
   "source": [
    "sim_inputs = [\n",
    "    'm12c_res7100',\n",
    "]\n",
    "for snap_num in snap_nums:\n",
    "    mg.measure_m12(sim_inputs, snap_num = snap_num, age_range = age)"
   ]
  },
  {
   "cell_type": "code",
   "execution_count": null,
   "id": "1a4c0219-61f1-4e62-bbcb-78a2df94a35c",
   "metadata": {},
   "outputs": [],
   "source": [
    "sim_inputs = [\n",
    "    'm12f_res7100',\n",
    "]\n",
    "for snap_num in snap_nums:\n",
    "    mg.measure_m12(sim_inputs, snap_num = snap_num, age_range = age)"
   ]
  },
  {
   "cell_type": "code",
   "execution_count": null,
   "id": "65a5f642-958b-45bd-84b0-156e892fea78",
   "metadata": {},
   "outputs": [],
   "source": [
    "sim_inputs = [\n",
    "    'm12m_res7100',\n",
    "]\n",
    "for snap_num in snap_nums:\n",
    "    mg.measure_m12(sim_inputs, snap_num = snap_num, age_range = age)"
   ]
  },
  {
   "cell_type": "code",
   "execution_count": null,
   "id": "d87d2ff1-2bcb-4411-a470-dcd39125c4d6",
   "metadata": {},
   "outputs": [],
   "source": [
    "sim_inputs = [\n",
    "    'm12r_res7100',\n",
    "]\n",
    "for snap_num in snap_nums:\n",
    "    mg.measure_m12(sim_inputs, snap_num = snap_num, age_range = age)"
   ]
  },
  {
   "cell_type": "code",
   "execution_count": null,
   "id": "4e161e00-cc62-4df6-825f-e6860cb719a5",
   "metadata": {},
   "outputs": [],
   "source": [
    "sim_inputs = [\n",
    "    'm12w_res7100',\n",
    "]\n",
    "for snap_num in snap_nums:\n",
    "    mg.measure_m12(sim_inputs, snap_num = snap_num, age_range = age)"
   ]
  },
  {
   "cell_type": "code",
   "execution_count": null,
   "id": "3ec2c40c-6561-42b8-be88-33297c03382c",
   "metadata": {},
   "outputs": [],
   "source": [
    "sim_inputs = [\n",
    "    'm12z_res4200',\n",
    "]\n",
    "for snap_num in snap_nums:\n",
    "    mg.measure_m12(sim_inputs, snap_num = snap_num, age_range = age)"
   ]
  },
  {
   "cell_type": "code",
   "execution_count": null,
   "id": "c1b26542-e202-4cfc-beda-f018f8aaa869",
   "metadata": {},
   "outputs": [],
   "source": [
    "sim_inputs = [\n",
    "    'm12_elvis_RomeoJuliet_res3500',\n",
    "]\n",
    "for snap_num in snap_nums:\n",
    "    mg.measure_m12(sim_inputs, snap_num = snap_num, age_range = age)"
   ]
  },
  {
   "cell_type": "code",
   "execution_count": null,
   "id": "e44f0a1d-d870-4ee4-9cb7-b78a7945a123",
   "metadata": {},
   "outputs": [],
   "source": [
    "sim_inputs = [\n",
    "    'm12_elvis_RomeoJuliet_res3500',\n",
    "]\n",
    "for snap_num in snap_nums:\n",
    "    mg.measure_m12(sim_inputs, snap_num = snap_num, host = 2, age_range = age)"
   ]
  },
  {
   "cell_type": "code",
   "execution_count": null,
   "id": "54bcdd7b-b14f-4d15-be69-a9878339e643",
   "metadata": {},
   "outputs": [],
   "source": []
  }
 ],
 "metadata": {
  "kernelspec": {
   "display_name": "Python 3 (ipykernel)",
   "language": "python",
   "name": "python3"
  },
  "language_info": {
   "codemirror_mode": {
    "name": "ipython",
    "version": 3
   },
   "file_extension": ".py",
   "mimetype": "text/x-python",
   "name": "python",
   "nbconvert_exporter": "python",
   "pygments_lexer": "ipython3",
   "version": "3.9.18"
  }
 },
 "nbformat": 4,
 "nbformat_minor": 5
}
