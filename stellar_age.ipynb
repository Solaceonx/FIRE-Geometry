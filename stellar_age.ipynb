{
 "cells": [
  {
   "cell_type": "code",
   "execution_count": 1,
   "id": "60d531d2-bfd9-482d-a721-8d929de3060e",
   "metadata": {},
   "outputs": [
    {
     "name": "stdout",
     "output_type": "stream",
     "text": [
      "Missing firefly, obtain it at http://github.com/ageller/Firefly or pip install firefly.\n"
     ]
    }
   ],
   "source": [
    "import plot_galaxy as gplot\n",
    "import mg\n",
    "import time\n",
    "half_years = [0.5,1.0,1.5,2.0,2.5,3.0,3.5,4.0,4.5,5.0,5.5,6.0,6.5,7.0,7.5,8.0,8.5,9.0,9.5,10.0,10.5,11.0,11.5,12.0,12.5,13.0]\n",
    "years = [1,2,3,4,5,6,7,8,9,10,11,12,13]\n",
    "age_ranges = [[0, 0.5], [0.5, 1.0], [1.0, 1.5], [1.5, 2.0], [2.0, 2.5], [2.5, 3.0], [3.0, 3.5],\n",
    " [3.5, 4.0], [4.0, 4.5], [4.5, 5.0], [5.0, 5.5], [5.5, 6.0], [6.0, 6.5], [6.5, 7.0],\n",
    " [7.0, 7.5], [7.5, 8.0], [8.0, 8.5], [8.5, 9.0], [9.0, 9.5], [9.5, 10.0], [10.0, 10.5],\n",
    " [10.5, 11.0], [11.0, 11.5], [11.5, 12.0], [12.0, 12.5], [12.5, 13.0], [13.0, 13.5], [13.5, 14.0]]\n",
    "spinup_romeo = [2.40, 6.0]\n",
    "spinup_romeo = [7.8, 11.4]"
   ]
  },
  {
   "cell_type": "code",
   "execution_count": 3,
   "id": "b504bfdd-add0-4334-9715-86b8a6daf15a",
   "metadata": {},
   "outputs": [
    {
     "name": "stdout",
     "output_type": "stream",
     "text": [
      "Partition 1:\n",
      "[1.59809417e+08 2.47393934e+08 1.84228001e+08 ... 1.35550023e+08\n",
      " 2.36745112e+08 1.97558185e+08]\n",
      "Data saved to 3D shapes/particle_data/m12_elvis_RomeoJuliet_res3500_particle_data_1.csv\n",
      "Big galaxy: has 11237290 star particles, will take a long time\n",
      "Partition 2:\n",
      "[1.63078210e+08 2.08235174e+08 1.62985462e+08 ... 1.18121172e+08\n",
      " 1.07999398e+08 2.11236457e+08]\n",
      "Data saved to 3D shapes/particle_data/m12_elvis_RomeoJuliet_res3500_particle_data_2.csv\n",
      "Big galaxy: has 11644427 star particles, will take a long time\n",
      "Partition 3:\n",
      "[1.37376846e+08 1.55683792e+08 1.27730103e+08 ... 1.18565458e+08\n",
      " 1.59201237e+08 2.20436902e+08]\n",
      "Data saved to 3D shapes/particle_data/m12_elvis_RomeoJuliet_res3500_particle_data_3.csv\n"
     ]
    }
   ],
   "source": [
    "sim_inputs = ['m12_elvis_RomeoJuliet_res3500']\n",
    "snap_num_input = 600\n",
    "output_file = 'FIRE_m12_elvis_RomeoJuliet_res3500_Arch_Spinup2.csv'\n",
    "results = mg.find_galaxy_shape3d(sim_inputs, output_file, snap_num_input, repeats = 1, age_partitions = spinup_romeo, min_particles = 200, save_data = 1)"
   ]
  },
  {
   "cell_type": "code",
   "execution_count": 2,
   "id": "837d7cee-4012-46da-9f6b-18994cacff86",
   "metadata": {},
   "outputs": [
    {
     "ename": "KeyboardInterrupt",
     "evalue": "",
     "output_type": "error",
     "traceback": [
      "\u001b[0;31m---------------------------------------------------------------------------\u001b[0m",
      "\u001b[0;31mKeyboardInterrupt\u001b[0m                         Traceback (most recent call last)",
      "Cell \u001b[0;32mIn[2], line 6\u001b[0m\n\u001b[1;32m      2\u001b[0m start_time \u001b[38;5;241m=\u001b[39m time\u001b[38;5;241m.\u001b[39mtime()\n\u001b[1;32m      3\u001b[0m sim_inputs \u001b[38;5;241m=\u001b[39m [\n\u001b[1;32m      4\u001b[0m     \u001b[38;5;124m'\u001b[39m\u001b[38;5;124mm12_elvis_RomeoJuliet_res3500\u001b[39m\u001b[38;5;124m'\u001b[39m\n\u001b[1;32m      5\u001b[0m ]\n\u001b[0;32m----> 6\u001b[0m \u001b[43mmg\u001b[49m\u001b[38;5;241;43m.\u001b[39;49m\u001b[43mmeasure_m12age\u001b[49m\u001b[43m(\u001b[49m\u001b[43msim_inputs\u001b[49m\u001b[43m,\u001b[49m\u001b[43m \u001b[49m\u001b[43msnap_num\u001b[49m\u001b[43m \u001b[49m\u001b[38;5;241;43m=\u001b[39;49m\u001b[43m \u001b[49m\u001b[43msnap_num\u001b[49m\u001b[43m,\u001b[49m\u001b[43m \u001b[49m\u001b[43mage_range2\u001b[49m\u001b[43m \u001b[49m\u001b[38;5;241;43m=\u001b[39;49m\u001b[43m \u001b[49m\u001b[43mage_ranges\u001b[49m\u001b[43m)\u001b[49m\n\u001b[1;32m      8\u001b[0m \u001b[38;5;124;03m'''\u001b[39;00m\n\u001b[1;32m      9\u001b[0m \u001b[38;5;124;03mfor i in age_ranges:\u001b[39;00m\n\u001b[1;32m     10\u001b[0m \u001b[38;5;124;03m    star_center = m\u001b[39;00m\n\u001b[0;32m   (...)\u001b[0m\n\u001b[1;32m     18\u001b[0m \u001b[38;5;124;03m        mg.save_coordinates(star_center, csv_file)\u001b[39;00m\n\u001b[1;32m     19\u001b[0m \u001b[38;5;124;03m    '''\u001b[39;00m\n\u001b[1;32m     20\u001b[0m end_time \u001b[38;5;241m=\u001b[39m time\u001b[38;5;241m.\u001b[39mtime() \n",
      "File \u001b[0;32m/nfspool-0/home/lyxia/scripts/FIRE Geometry/mg.py:1345\u001b[0m, in \u001b[0;36mmeasure_m12age\u001b[0;34m(sim_inputs, snap_num, host, age_range, age_range2)\u001b[0m\n\u001b[1;32m   1342\u001b[0m load_start_time \u001b[38;5;241m=\u001b[39m time\u001b[38;5;241m.\u001b[39mtime()\n\u001b[1;32m   1344\u001b[0m halo \u001b[38;5;241m=\u001b[39m galaxy_tools\u001b[38;5;241m.\u001b[39mload_halo(halo_path, snap_num, host\u001b[38;5;241m=\u001b[39m\u001b[38;5;28;01mTrue\u001b[39;00m, filetype\u001b[38;5;241m=\u001b[39m\u001b[38;5;124m'\u001b[39m\u001b[38;5;124mhdf5\u001b[39m\u001b[38;5;124m'\u001b[39m, hostnumber\u001b[38;5;241m=\u001b[39mhost)\n\u001b[0;32m-> 1345\u001b[0m star_snapdict, gas_snapdict \u001b[38;5;241m=\u001b[39m \u001b[43mgalaxy_tools\u001b[49m\u001b[38;5;241;43m.\u001b[39;49m\u001b[43mload_sim\u001b[49m\u001b[43m(\u001b[49m\u001b[43msim_path\u001b[49m\u001b[43m,\u001b[49m\u001b[43m \u001b[49m\u001b[43msnap_num\u001b[49m\u001b[43m)\u001b[49m\n\u001b[1;32m   1346\u001b[0m load_end_time \u001b[38;5;241m=\u001b[39m time\u001b[38;5;241m.\u001b[39mtime()\n\u001b[1;32m   1347\u001b[0m \u001b[38;5;28mprint\u001b[39m(\u001b[38;5;124mf\u001b[39m\u001b[38;5;124m\"\u001b[39m\u001b[38;5;124mTime taken for loading: \u001b[39m\u001b[38;5;132;01m{\u001b[39;00mload_end_time\u001b[38;5;250m \u001b[39m\u001b[38;5;241m-\u001b[39m\u001b[38;5;250m \u001b[39mload_start_time\u001b[38;5;132;01m:\u001b[39;00m\u001b[38;5;124m.2f\u001b[39m\u001b[38;5;132;01m}\u001b[39;00m\u001b[38;5;124m seconds\u001b[39m\u001b[38;5;124m\"\u001b[39m)\n",
      "File \u001b[0;32m~/scripts/galaxy_tools.py:87\u001b[0m, in \u001b[0;36mload_sim\u001b[0;34m(pathtofolder, snapshot, dark_matter, gas_temp)\u001b[0m\n\u001b[1;32m     81\u001b[0m z_snap \u001b[38;5;241m=\u001b[39m f[\u001b[38;5;124m'\u001b[39m\u001b[38;5;124mHeader\u001b[39m\u001b[38;5;124m'\u001b[39m]\u001b[38;5;241m.\u001b[39mattrs[\u001b[38;5;124m'\u001b[39m\u001b[38;5;124mRedshift\u001b[39m\u001b[38;5;124m'\u001b[39m]\n\u001b[1;32m     82\u001b[0m a_snap \u001b[38;5;241m=\u001b[39m \u001b[38;5;241m1\u001b[39m\u001b[38;5;241m/\u001b[39m(\u001b[38;5;241m1\u001b[39m\u001b[38;5;241m+\u001b[39mz_snap)\n\u001b[1;32m     84\u001b[0m gas_snapdict[\u001b[38;5;124m'\u001b[39m\u001b[38;5;124mCoordinates\u001b[39m\u001b[38;5;124m'\u001b[39m] \u001b[38;5;241m=\u001b[39m np\u001b[38;5;241m.\u001b[39mappend(gas_snapdict[\u001b[38;5;124m'\u001b[39m\u001b[38;5;124mCoordinates\u001b[39m\u001b[38;5;124m'\u001b[39m],\n\u001b[1;32m     85\u001b[0m                                         np\u001b[38;5;241m.\u001b[39marray([f[\u001b[38;5;124m'\u001b[39m\u001b[38;5;124mPartType0\u001b[39m\u001b[38;5;124m'\u001b[39m][\u001b[38;5;124m'\u001b[39m\u001b[38;5;124mCoordinates\u001b[39m\u001b[38;5;124m'\u001b[39m][:,\u001b[38;5;241m0\u001b[39m]\u001b[38;5;241m*\u001b[39ma_snap\u001b[38;5;241m/\u001b[39mh,\n\u001b[1;32m     86\u001b[0m                                                   f[\u001b[38;5;124m'\u001b[39m\u001b[38;5;124mPartType0\u001b[39m\u001b[38;5;124m'\u001b[39m][\u001b[38;5;124m'\u001b[39m\u001b[38;5;124mCoordinates\u001b[39m\u001b[38;5;124m'\u001b[39m][:,\u001b[38;5;241m1\u001b[39m]\u001b[38;5;241m*\u001b[39ma_snap\u001b[38;5;241m/\u001b[39mh,\n\u001b[0;32m---> 87\u001b[0m                                                   \u001b[43mf\u001b[49m\u001b[43m[\u001b[49m\u001b[38;5;124;43m'\u001b[39;49m\u001b[38;5;124;43mPartType0\u001b[39;49m\u001b[38;5;124;43m'\u001b[39;49m\u001b[43m]\u001b[49m\u001b[43m[\u001b[49m\u001b[38;5;124;43m'\u001b[39;49m\u001b[38;5;124;43mCoordinates\u001b[39;49m\u001b[38;5;124;43m'\u001b[39;49m\u001b[43m]\u001b[49m\u001b[43m[\u001b[49m\u001b[43m:\u001b[49m\u001b[43m,\u001b[49m\u001b[38;5;241;43m2\u001b[39;49m\u001b[43m]\u001b[49m\u001b[38;5;241;43m*\u001b[39;49m\u001b[43ma_snap\u001b[49m\u001b[38;5;241;43m/\u001b[39;49m\u001b[43mh\u001b[49m\n\u001b[1;32m     88\u001b[0m                                                  ])\u001b[38;5;241m.\u001b[39mT, axis\u001b[38;5;241m=\u001b[39m\u001b[38;5;241m0\u001b[39m)\n\u001b[1;32m     89\u001b[0m gas_snapdict[\u001b[38;5;124m'\u001b[39m\u001b[38;5;124mVelocities\u001b[39m\u001b[38;5;124m'\u001b[39m] \u001b[38;5;241m=\u001b[39m np\u001b[38;5;241m.\u001b[39mappend(gas_snapdict[\u001b[38;5;124m'\u001b[39m\u001b[38;5;124mVelocities\u001b[39m\u001b[38;5;124m'\u001b[39m],\n\u001b[1;32m     90\u001b[0m                                          np\u001b[38;5;241m.\u001b[39marray([f[\u001b[38;5;124m'\u001b[39m\u001b[38;5;124mPartType0\u001b[39m\u001b[38;5;124m'\u001b[39m][\u001b[38;5;124m'\u001b[39m\u001b[38;5;124mVelocities\u001b[39m\u001b[38;5;124m'\u001b[39m][:,\u001b[38;5;241m0\u001b[39m],\n\u001b[1;32m     91\u001b[0m                                                    f[\u001b[38;5;124m'\u001b[39m\u001b[38;5;124mPartType0\u001b[39m\u001b[38;5;124m'\u001b[39m][\u001b[38;5;124m'\u001b[39m\u001b[38;5;124mVelocities\u001b[39m\u001b[38;5;124m'\u001b[39m][:,\u001b[38;5;241m1\u001b[39m],\n\u001b[1;32m     92\u001b[0m                                                    f[\u001b[38;5;124m'\u001b[39m\u001b[38;5;124mPartType0\u001b[39m\u001b[38;5;124m'\u001b[39m][\u001b[38;5;124m'\u001b[39m\u001b[38;5;124mVelocities\u001b[39m\u001b[38;5;124m'\u001b[39m][:,\u001b[38;5;241m2\u001b[39m]\n\u001b[1;32m     93\u001b[0m                                                   ])\u001b[38;5;241m.\u001b[39mT, axis\u001b[38;5;241m=\u001b[39m\u001b[38;5;241m0\u001b[39m)\n\u001b[1;32m     95\u001b[0m gas_snapdict[\u001b[38;5;124m'\u001b[39m\u001b[38;5;124mMasses\u001b[39m\u001b[38;5;124m'\u001b[39m]      \u001b[38;5;241m=\u001b[39m np\u001b[38;5;241m.\u001b[39mappend(gas_snapdict[\u001b[38;5;124m'\u001b[39m\u001b[38;5;124mMasses\u001b[39m\u001b[38;5;124m'\u001b[39m],f[\u001b[38;5;124m'\u001b[39m\u001b[38;5;124mPartType0\u001b[39m\u001b[38;5;124m'\u001b[39m][\u001b[38;5;124m'\u001b[39m\u001b[38;5;124mMasses\u001b[39m\u001b[38;5;124m'\u001b[39m][:]\u001b[38;5;241m*\u001b[39m(\u001b[38;5;241m10\u001b[39m\u001b[38;5;241m*\u001b[39m\u001b[38;5;241m*\u001b[39m\u001b[38;5;241m10\u001b[39m)\u001b[38;5;241m/\u001b[39mh)\n",
      "\u001b[0;31mKeyboardInterrupt\u001b[0m: "
     ]
    }
   ],
   "source": [
    "snap_num = 600\n",
    "start_time = time.time()\n",
    "sim_inputs = [\n",
    "    'm12_elvis_RomeoJuliet_res3500'\n",
    "]\n",
    "mg.measure_m12age(sim_inputs, snap_num = snap_num, age_range2 = age_ranges)\n",
    "\n",
    "'''\n",
    "for i in age_ranges:\n",
    "    star_center = m\n",
    "    k = len(star_center['Coordinates'])\n",
    "    if k >= 5000:\n",
    "        csv_file = 'm12_redshift_shapes/romeo_03/romeo_coords_' + str(snap_num) + '.csv'\n",
    "        mg.save_coordinates(star_center, csv_file)\n",
    "    else:\n",
    "        print('Only ' + str(k) + ' star particles in snapshot ' + str(snap_num) + '.')\n",
    "        csv_file = 'm12_redshift_shapes/romeo_03/romeo_coords_INS' + str(snap_num) + '.csv'\n",
    "        mg.save_coordinates(star_center, csv_file)\n",
    "    '''\n",
    "end_time = time.time() \n",
    "elapsed_time = end_time - start_time\n",
    "print(f\"Total time taken: {elapsed_time:.2f} seconds\")"
   ]
  },
  {
   "cell_type": "code",
   "execution_count": 2,
   "id": "f82f3eb1-b1b8-45eb-b900-3742eed36d56",
   "metadata": {},
   "outputs": [],
   "source": [
    "sim_inputs = ['m12_elvis_RomeoJuliet_res3500']\n",
    "snap_num_input = 600\n",
    "output_file = 'FIRE_m12_elvis_RomeoJuliet_res3500_AGE.csv'\n",
    "results = mg.find_galaxy_shape3d(sim_inputs, output_file, snap_num_input, repeats = 1, age_partitions = half_years, min_particles = 200)"
   ]
  },
  {
   "cell_type": "code",
   "execution_count": 3,
   "id": "29022c30-7886-4b94-9d5d-bc83a92199d9",
   "metadata": {},
   "outputs": [],
   "source": [
    "sim_inputs = ['m12b_res7100' ]\n",
    "snap_num_input = 600\n",
    "output_file = 'FIREm12b_res7100_600_AGE.csv'\n",
    "results = mg.find_galaxy_shape3d(sim_inputs, output_file, snap_num_input, repeats = 1, age_partitions = half_years, min_particles = 200)"
   ]
  },
  {
   "cell_type": "code",
   "execution_count": 4,
   "id": "fad48ae0-1dce-4759-a7df-74ae4a3db880",
   "metadata": {},
   "outputs": [],
   "source": [
    "sim_inputs = ['m12c_res7100']\n",
    "snap_num_input = 600\n",
    "output_file = 'FIREm12c_res7100_600_AGE.csv'\n",
    "results = mg.find_galaxy_shape3d(sim_inputs, output_file, snap_num_input, repeats = 1, age_partitions = half_years, min_particles = 200)"
   ]
  },
  {
   "cell_type": "code",
   "execution_count": 5,
   "id": "0166cce7-4d1b-4739-8b06-64639b691dce",
   "metadata": {},
   "outputs": [],
   "source": [
    "sim_inputs = ['m12f_res7100' ]\n",
    "snap_num_input = 600\n",
    "output_file = 'FIREm12f_res7100_600_AGE.csv'\n",
    "results = mg.find_galaxy_shape3d(sim_inputs, output_file, snap_num_input, repeats = 1, age_partitions = half_years, min_particles = 200)"
   ]
  },
  {
   "cell_type": "code",
   "execution_count": null,
   "id": "cfe78473-26d7-468e-b01f-5cf71602caea",
   "metadata": {},
   "outputs": [],
   "source": [
    "sim_inputs = ['m11v_res7100']\n",
    "snap_num_input = 600\n",
    "output_file = 'FIREm11v_res7100_600_AGE.csv'\n",
    "results = mg.find_galaxy_shape3d(sim_inputs, output_file, snap_num_input, repeats = 1, age_partitions = half_years, min_particles = 200)"
   ]
  },
  {
   "cell_type": "code",
   "execution_count": 2,
   "id": "134d5daf-dc7a-4880-b795-22554072721f",
   "metadata": {},
   "outputs": [],
   "source": [
    "sim_inputs = ['m11c_res2100']\n",
    "snap_num_input = 600\n",
    "output_file = 'FIREm11c_res2100_600_AGE.csv'\n",
    "results = mg.find_galaxy_shape3d(sim_inputs, output_file, snap_num_input, repeats = 1, age_partitions = half_years, min_particles = 200)"
   ]
  },
  {
   "cell_type": "code",
   "execution_count": 7,
   "id": "651f90a6-6f03-4f09-a088-5002a72fa77e",
   "metadata": {},
   "outputs": [
    {
     "ename": "KeyError",
     "evalue": "\"Unable to open object (object 'host2.index' doesn't exist)\"",
     "output_type": "error",
     "traceback": [
      "\u001b[0;31m---------------------------------------------------------------------------\u001b[0m",
      "\u001b[0;31mKeyError\u001b[0m                                  Traceback (most recent call last)",
      "Cell \u001b[0;32mIn[7], line 4\u001b[0m\n\u001b[1;32m      2\u001b[0m snap_num_input \u001b[38;5;241m=\u001b[39m \u001b[38;5;241m600\u001b[39m\n\u001b[1;32m      3\u001b[0m output_file \u001b[38;5;241m=\u001b[39m \u001b[38;5;124m'\u001b[39m\u001b[38;5;124mFIRE_m12_elvis_RomeoJuliet_res3500_AGE_2.csv\u001b[39m\u001b[38;5;124m'\u001b[39m\n\u001b[0;32m----> 4\u001b[0m results \u001b[38;5;241m=\u001b[39m \u001b[43mmg\u001b[49m\u001b[38;5;241;43m.\u001b[39;49m\u001b[43mfind_galaxy_shape3d\u001b[49m\u001b[43m(\u001b[49m\u001b[43msim_inputs\u001b[49m\u001b[43m,\u001b[49m\u001b[43m \u001b[49m\u001b[43moutput_file\u001b[49m\u001b[43m,\u001b[49m\u001b[43m \u001b[49m\u001b[43msnap_num_input\u001b[49m\u001b[43m,\u001b[49m\u001b[43m \u001b[49m\u001b[43mhost_num\u001b[49m\u001b[43m \u001b[49m\u001b[38;5;241;43m=\u001b[39;49m\u001b[43m \u001b[49m\u001b[38;5;241;43m2\u001b[39;49m\u001b[43m,\u001b[49m\u001b[43m \u001b[49m\u001b[43mrepeats\u001b[49m\u001b[43m \u001b[49m\u001b[38;5;241;43m=\u001b[39;49m\u001b[43m \u001b[49m\u001b[38;5;241;43m1\u001b[39;49m\u001b[43m,\u001b[49m\u001b[43m \u001b[49m\u001b[43mage_partitions\u001b[49m\u001b[43m \u001b[49m\u001b[38;5;241;43m=\u001b[39;49m\u001b[43m \u001b[49m\u001b[43mhalf_years\u001b[49m\u001b[43m,\u001b[49m\u001b[43m \u001b[49m\u001b[43mmin_particles\u001b[49m\u001b[43m \u001b[49m\u001b[38;5;241;43m=\u001b[39;49m\u001b[43m \u001b[49m\u001b[38;5;241;43m200\u001b[39;49m\u001b[43m)\u001b[49m\n",
      "File \u001b[0;32m/nfspool-0/home/lyxia/scripts/FIRE Geometry/mg.py:1102\u001b[0m, in \u001b[0;36mfind_galaxy_shape3d\u001b[0;34m(sim_inputs, output_file, snap_num_input, host_num, rvir_scales, particle_fractions, repeats, FIREBox, min_particles, age_partitions)\u001b[0m\n\u001b[1;32m   1100\u001b[0m if snap_num == 600:\n\u001b[1;32m   1101\u001b[0m     halo_path = '/DFS-L/DATA/cosmo/grenache/aalazar/FIRE/GVB/' + str(sim) + '/halo/rockstar_dm/hdf5/'\n\u001b[0;32m-> 1102\u001b[0m     halo = galaxy_tools.load_halo(halo_path, snap_num, host=True, filetype='hdf5', hostnumber=host_num)\n\u001b[1;32m   1103\u001b[0m elif snap_num == 184:\n\u001b[1;32m   1104\u001b[0m     halo_path = '/DFS-L/DATA/cosmo/grenache/aalazar/FIRE/GVB/' + str(sim) + '/halo/rockstar_dm/catalog/'\n",
      "File \u001b[0;32m~/scripts/galaxy_tools.py:242\u001b[0m, in \u001b[0;36mload_halo\u001b[0;34m(pathtofolder, snapshot, host, filetype, hostnumber)\u001b[0m\n\u001b[1;32m    240\u001b[0m \u001b[38;5;28;01mif\u001b[39;00m host \u001b[38;5;129;01mis\u001b[39;00m \u001b[38;5;28;01mTrue\u001b[39;00m:\n\u001b[1;32m    241\u001b[0m     \u001b[38;5;28;01mif\u001b[39;00m hostnumber \u001b[38;5;241m==\u001b[39m \u001b[38;5;241m2\u001b[39m:\n\u001b[0;32m--> 242\u001b[0m         host_index \u001b[38;5;241m=\u001b[39m \u001b[43mhalo_load\u001b[49m\u001b[43m[\u001b[49m\u001b[38;5;124;43m'\u001b[39;49m\u001b[38;5;124;43mhost2.index\u001b[39;49m\u001b[38;5;124;43m'\u001b[39;49m\u001b[43m]\u001b[49m[\u001b[38;5;241m0\u001b[39m]\n\u001b[1;32m    243\u001b[0m     \u001b[38;5;28;01melse\u001b[39;00m:\n\u001b[1;32m    244\u001b[0m         host_index \u001b[38;5;241m=\u001b[39m halo_load[\u001b[38;5;124m'\u001b[39m\u001b[38;5;124mhost.index\u001b[39m\u001b[38;5;124m'\u001b[39m][\u001b[38;5;241m0\u001b[39m]\n",
      "File \u001b[0;32mh5py/_objects.pyx:54\u001b[0m, in \u001b[0;36mh5py._objects.with_phil.wrapper\u001b[0;34m()\u001b[0m\n",
      "File \u001b[0;32mh5py/_objects.pyx:55\u001b[0m, in \u001b[0;36mh5py._objects.with_phil.wrapper\u001b[0;34m()\u001b[0m\n",
      "File \u001b[0;32m~/miniconda3/envs/morph/lib/python3.9/site-packages/h5py/_hl/group.py:328\u001b[0m, in \u001b[0;36mGroup.__getitem__\u001b[0;34m(self, name)\u001b[0m\n\u001b[1;32m    326\u001b[0m         \u001b[38;5;28;01mraise\u001b[39;00m \u001b[38;5;167;01mValueError\u001b[39;00m(\u001b[38;5;124m\"\u001b[39m\u001b[38;5;124mInvalid HDF5 object reference\u001b[39m\u001b[38;5;124m\"\u001b[39m)\n\u001b[1;32m    327\u001b[0m \u001b[38;5;28;01melif\u001b[39;00m \u001b[38;5;28misinstance\u001b[39m(name, (\u001b[38;5;28mbytes\u001b[39m, \u001b[38;5;28mstr\u001b[39m)):\n\u001b[0;32m--> 328\u001b[0m     oid \u001b[38;5;241m=\u001b[39m \u001b[43mh5o\u001b[49m\u001b[38;5;241;43m.\u001b[39;49m\u001b[43mopen\u001b[49m\u001b[43m(\u001b[49m\u001b[38;5;28;43mself\u001b[39;49m\u001b[38;5;241;43m.\u001b[39;49m\u001b[43mid\u001b[49m\u001b[43m,\u001b[49m\u001b[43m \u001b[49m\u001b[38;5;28;43mself\u001b[39;49m\u001b[38;5;241;43m.\u001b[39;49m\u001b[43m_e\u001b[49m\u001b[43m(\u001b[49m\u001b[43mname\u001b[49m\u001b[43m)\u001b[49m\u001b[43m,\u001b[49m\u001b[43m \u001b[49m\u001b[43mlapl\u001b[49m\u001b[38;5;241;43m=\u001b[39;49m\u001b[38;5;28;43mself\u001b[39;49m\u001b[38;5;241;43m.\u001b[39;49m\u001b[43m_lapl\u001b[49m\u001b[43m)\u001b[49m\n\u001b[1;32m    329\u001b[0m \u001b[38;5;28;01melse\u001b[39;00m:\n\u001b[1;32m    330\u001b[0m     \u001b[38;5;28;01mraise\u001b[39;00m \u001b[38;5;167;01mTypeError\u001b[39;00m(\u001b[38;5;124m\"\u001b[39m\u001b[38;5;124mAccessing a group is done with bytes or str, \u001b[39m\u001b[38;5;124m\"\u001b[39m\n\u001b[1;32m    331\u001b[0m                     \u001b[38;5;124m\"\u001b[39m\u001b[38;5;124m not \u001b[39m\u001b[38;5;132;01m{}\u001b[39;00m\u001b[38;5;124m\"\u001b[39m\u001b[38;5;241m.\u001b[39mformat(\u001b[38;5;28mtype\u001b[39m(name)))\n",
      "File \u001b[0;32mh5py/_objects.pyx:54\u001b[0m, in \u001b[0;36mh5py._objects.with_phil.wrapper\u001b[0;34m()\u001b[0m\n",
      "File \u001b[0;32mh5py/_objects.pyx:55\u001b[0m, in \u001b[0;36mh5py._objects.with_phil.wrapper\u001b[0;34m()\u001b[0m\n",
      "File \u001b[0;32mh5py/h5o.pyx:190\u001b[0m, in \u001b[0;36mh5py.h5o.open\u001b[0;34m()\u001b[0m\n",
      "\u001b[0;31mKeyError\u001b[0m: \"Unable to open object (object 'host2.index' doesn't exist)\""
     ]
    }
   ],
   "source": [
    "sim_inputs = ['m12_elvis_RomeoJuliet_res3500']\n",
    "snap_num_input = 600\n",
    "output_file = 'FIRE_m12_elvis_RomeoJuliet_res3500_AGE_2.csv'\n",
    "results = mg.find_galaxy_shape3d(sim_inputs, output_file, snap_num_input, host_num = 2, repeats = 1, age_partitions = half_years, min_particles = 200)"
   ]
  },
  {
   "cell_type": "code",
   "execution_count": 4,
   "id": "592935cf-0d5f-4a05-90fd-ace5385570b7",
   "metadata": {},
   "outputs": [],
   "source": [
    "sim_inputs = ['m12c_res7100']\n",
    "snap_num_input = 600\n",
    "output_file = 'FIRE_m12c_res7100_AGE.csv'\n",
    "results = mg.find_galaxy_shape3d(sim_inputs, output_file, snap_num_input, repeats = 1, age_partitions = half_years, min_particles = 200)"
   ]
  },
  {
   "cell_type": "code",
   "execution_count": null,
   "id": "ab1a3325-0a34-47ca-a0b2-26e19a899953",
   "metadata": {},
   "outputs": [],
   "source": [
    "sim_input = ['object_284']\n",
    "output_file = 'object_284_1.csv'\n",
    "results = mg.outlier_shape3d(sim_input, output_file, cutoff_radius = 40, cm = [0, -5, 0], FIREBox=1)"
   ]
  },
  {
   "cell_type": "code",
   "execution_count": null,
   "id": "5a7f4547-730c-4843-87de-c94e7f9ce115",
   "metadata": {},
   "outputs": [],
   "source": [
    "# test notebook\n",
    "import plot_galaxy as gplot\n",
    "import mg\n",
    "import os\n",
    "import time\n",
    "import matplotlib.pyplot as plt\n",
    "%matplotlib inline\n",
    "sim_inputs = ['object_398']\n",
    "output_file = 'test398.csv'\n",
    "results = mg.find_galaxy_shape3d(sim_inputs, output_file, FIREBox = 1)\n",
    "galaxy = results[0]['remaining_galaxy']"
   ]
  },
  {
   "cell_type": "code",
   "execution_count": null,
   "id": "e6504abe-208e-437a-b57c-04ba2f178170",
   "metadata": {},
   "outputs": [],
   "source": [
    "gplot.scatter_3d(galaxy)\n"
   ]
  },
  {
   "cell_type": "code",
   "execution_count": null,
   "id": "d1ada234-234e-409e-934a-2b9813664029",
   "metadata": {},
   "outputs": [],
   "source": [
    "x, p, q = results[0]['max_radius'], results[0]['b/a'], results[0]['c/a']\n",
    "y, z = x*p, x*q\n",
    "galaxy = results[0]['remaining_galaxy']\n",
    "gplot.scatter_ellipsoid_3d(galaxy, axis_lengths=(x, y, z))"
   ]
  },
  {
   "cell_type": "code",
   "execution_count": null,
   "id": "41d2dd58-7a98-4893-8c19-6345dda3155b",
   "metadata": {},
   "outputs": [],
   "source": [
    "# test notebook\n",
    "import plot_galaxy as gplot\n",
    "import mg\n",
    "import os\n",
    "import time\n",
    "import matplotlib.pyplot as plt\n",
    "%matplotlib inline\n",
    "sim_inputs = ['object_297']\n",
    "output_file = 'test.csv'\n",
    "results = mg.find_galaxy_shape3d(sim_inputs, output_file, FIREBox = 1)\n",
    "galaxy = results[0]['remaining_galaxy']"
   ]
  },
  {
   "cell_type": "code",
   "execution_count": null,
   "id": "91155663-26db-4541-86da-93a380447d30",
   "metadata": {},
   "outputs": [],
   "source": [
    "x, p, q = results[0]['max_radius'], results[0]['b/a'], results[0]['c/a']\n",
    "y, z = x*p, x*q\n",
    "galaxy = results[0]['remaining_galaxy']\n",
    "gplot.scatter_ellipsoid_3d(galaxy, axis_lengths=(x, y, z))"
   ]
  },
  {
   "cell_type": "code",
   "execution_count": null,
   "id": "32990478-d4a7-410c-950f-d94580473669",
   "metadata": {},
   "outputs": [],
   "source": []
  }
 ],
 "metadata": {
  "kernelspec": {
   "display_name": "Python 3 (ipykernel)",
   "language": "python",
   "name": "python3"
  },
  "language_info": {
   "codemirror_mode": {
    "name": "ipython",
    "version": 3
   },
   "file_extension": ".py",
   "mimetype": "text/x-python",
   "name": "python",
   "nbconvert_exporter": "python",
   "pygments_lexer": "ipython3",
   "version": "3.9.18"
  }
 },
 "nbformat": 4,
 "nbformat_minor": 5
}
