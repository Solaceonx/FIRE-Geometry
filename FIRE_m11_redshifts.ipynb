{
 "cells": [
  {
   "cell_type": "code",
   "execution_count": null,
   "id": "1070025b-a460-4c0a-ae49-aea60f227ef6",
   "metadata": {},
   "outputs": [],
   "source": [
    "import plot_galaxy as gplot\n",
    "import mg\n",
    "import galaxy_tools\n",
    "# These snapshots correspond to redshifts of 7, 5, 3, 2, 1, 0.5, 0.1, and 0, respectively. \n",
    "snap_nums = ['041', '067', 120, 172, 277, 382, 534, 600]\n",
    "snap_nums = ['020', '029', '059', '088', 102, 214, 294, 332, 412, 446, 486, 590]"
   ]
  }
 ],
 "metadata": {
  "kernelspec": {
   "display_name": "Python 3 (ipykernel)",
   "language": "python",
   "name": "python3"
  },
  "language_info": {
   "codemirror_mode": {
    "name": "ipython",
    "version": 3
   },
   "file_extension": ".py",
   "mimetype": "text/x-python",
   "name": "python",
   "nbconvert_exporter": "python",
   "pygments_lexer": "ipython3",
   "version": "3.9.18"
  }
 },
 "nbformat": 4,
 "nbformat_minor": 5
}
