{
 "cells": [
  {
   "cell_type": "code",
   "execution_count": 1,
   "id": "41272843-2d64-47c1-ae58-42d39aa3e7b6",
   "metadata": {},
   "outputs": [
    {
     "name": "stdout",
     "output_type": "stream",
     "text": [
      "Missing firefly, obtain it at http://github.com/ageller/Firefly or pip install firefly.\n"
     ]
    }
   ],
   "source": [
    "import plot_galaxy as gplot\n",
    "import mg\n",
    "import galaxy_tools"
   ]
  },
  {
   "cell_type": "code",
   "execution_count": 2,
   "id": "66f088e2-3ec9-424d-baa7-1d51075a051e",
   "metadata": {},
   "outputs": [
    {
     "name": "stdout",
     "output_type": "stream",
     "text": [
      "Big galaxy: has 13408732 star particles, will take a long time\n",
      "Big galaxy: has 7473802 star particles, will take a long time\n",
      "Big galaxy: has 23937329 star particles, will take a long time\n"
     ]
    }
   ],
   "source": [
    "snap_num = 600\n",
    "sim_inputs = [\n",
    "    \"m12b_res7100\",\n",
    "    \"m12_elvis_Louise_res4000\",\n",
    "    \"m12_elvis_Romulus_res4000\",\n",
    "]\n",
    "output_file = 'FIRE_m12b_1.csv'\n",
    "results = []\n",
    "for sim in sim_inputs: \n",
    "    sim_path = '/DFS-L/DATA/cosmo/grenache/staudt/FIRE/GVB_202304/' + str(sim) + '/output/0.0_to_10.0_kpc/hdf5/snapdir_600/'\n",
    "    star_snapdict, gas_snapdict = galaxy_tools.load_sim(sim_path, snap_num)\n",
    "    result = mg.iter_RIT_3d(star_snapdict, initial_max_radius = 500000000.0)\n",
    "    if result:\n",
    "        results.append({\n",
    "            'simulation': sim,\n",
    "            'a': result['a'],\n",
    "            'b': result['b'],\n",
    "            'c': result['c'],\n",
    "            'b/a': result['b/a'],\n",
    "            'c/a': result['c/a'],\n",
    "            'c/b': result['c/b'],\n",
    "            'ellipticity': result['ellipticity'],\n",
    "            'triaxiality': result['triaxiality'],\n",
    "            'iterations': result['iterations'],\n",
    "            'initial_particles': result['initial_particles'],\n",
    "            'remaining_particles': result['remaining_particles'],\n",
    "            'max_radius': result['max_radius'],\n",
    "            'r_50': result['r_50'],\n",
    "            'mass': result['mass'],\n",
    "            'cm': result['cm'],\n",
    "            'rotation_matrix' : result['rotation_matrix'],\n",
    "            'remaining_galaxy': result['remaining_galaxy']\n",
    "        })\n",
    "    mg.csv_3d('3D shapes', output_file, results) \n",
    "\n"
   ]
  },
  {
   "cell_type": "code",
   "execution_count": 3,
   "id": "09cd3000-52c9-47f4-b774-e7d02fecf47f",
   "metadata": {},
   "outputs": [
    {
     "name": "stdout",
     "output_type": "stream",
     "text": [
      "Big galaxy: has 10456179 star particles, will take a long time\n",
      "Big galaxy: has 9197351 star particles, will take a long time\n",
      "Big galaxy: has 9532853 star particles, will take a long time\n"
     ]
    }
   ],
   "source": [
    "sim_inputs = [\n",
    "    'm12i_res7100',\n",
    "    'm12w_res7100',\n",
    "    'm12c_res7100'\n",
    "]\n",
    "output_file = 'FIRE_m12_2.csv'\n",
    "results = []\n",
    "for sim in sim_inputs: \n",
    "    sim_path = '/DFS-L/DATA/cosmo/grenache/staudt/FIRE/GVB_202304/' + str(sim) + '/output/0.0_to_10.0_kpc/hdf5/snapdir_600/'\n",
    "    star_snapdict, gas_snapdict = galaxy_tools.load_sim(sim_path, snap_num)\n",
    "    result = mg.iter_RIT_3d(star_snapdict, initial_max_radius = 500000000.0)\n",
    "    if result:\n",
    "        results.append({\n",
    "            'simulation': sim,\n",
    "            'a': result['a'],\n",
    "            'b': result['b'],\n",
    "            'c': result['c'],\n",
    "            'b/a': result['b/a'],\n",
    "            'c/a': result['c/a'],\n",
    "            'c/b': result['c/b'],\n",
    "            'ellipticity': result['ellipticity'],\n",
    "            'triaxiality': result['triaxiality'],\n",
    "            'iterations': result['iterations'],\n",
    "            'initial_particles': result['initial_particles'],\n",
    "            'remaining_particles': result['remaining_particles'],\n",
    "            'max_radius': result['max_radius'],\n",
    "            'r_50': result['r_50'],\n",
    "            'mass': result['mass'],\n",
    "            'cm': result['cm'],\n",
    "            'rotation_matrix' : result['rotation_matrix'],\n",
    "            'remaining_galaxy': result['remaining_galaxy']\n",
    "        })\n",
    "    mg.csv_3d('3D shapes', output_file, results) \n",
    "\n"
   ]
  },
  {
   "cell_type": "code",
   "execution_count": 5,
   "id": "c82f1fae-8e09-4665-b180-df741ca9e29a",
   "metadata": {},
   "outputs": [
    {
     "name": "stdout",
     "output_type": "stream",
     "text": [
      "Big galaxy: has 13209642 star particles, will take a long time\n",
      "Big galaxy: has 19039129 star particles, will take a long time\n",
      "Big galaxy: has 16395941 star particles, will take a long time\n"
     ]
    }
   ],
   "source": [
    "sim_inputs = [\n",
    "    'm12_elvis_Remus_res4000',\n",
    "    'm12_elvis_Thelma_res4000',\n",
    "    'm12m_res7100'\n",
    "]\n",
    "output_file = 'FIRE_m12_3.csv'\n",
    "results = []\n",
    "for sim in sim_inputs: \n",
    "    sim_path = '/DFS-L/DATA/cosmo/grenache/staudt/FIRE/GVB_202304/' + str(sim) + '/output/0.0_to_10.0_kpc/hdf5/snapdir_600/'\n",
    "    star_snapdict, gas_snapdict = galaxy_tools.load_sim(sim_path, snap_num)\n",
    "    result = mg.iter_RIT_3d(star_snapdict, initial_max_radius = 500000000.0)\n",
    "    if result:\n",
    "        results.append({\n",
    "            'simulation': sim,\n",
    "            'a': result['a'],\n",
    "            'b': result['b'],\n",
    "            'c': result['c'],\n",
    "            'b/a': result['b/a'],\n",
    "            'c/a': result['c/a'],\n",
    "            'c/b': result['c/b'],\n",
    "            'ellipticity': result['ellipticity'],\n",
    "            'triaxiality': result['triaxiality'],\n",
    "            'iterations': result['iterations'],\n",
    "            'initial_particles': result['initial_particles'],\n",
    "            'remaining_particles': result['remaining_particles'],\n",
    "            'max_radius': result['max_radius'],\n",
    "            'r_50': result['r_50'],\n",
    "            'mass': result['mass'],\n",
    "            'cm': result['cm'],\n",
    "            'rotation_matrix' : result['rotation_matrix'],\n",
    "            'remaining_galaxy': result['remaining_galaxy']\n",
    "        })\n",
    "    mg.csv_3d('3D shapes', output_file, results) \n",
    "\n"
   ]
  },
  {
   "cell_type": "code",
   "execution_count": 6,
   "id": "79101a27-4507-428c-b731-82bfae416d5b",
   "metadata": {},
   "outputs": [
    {
     "name": "stdout",
     "output_type": "stream",
     "text": [
      "Big galaxy: has 5666002 star particles, will take a long time\n",
      "Big galaxy: has 12734633 star particles, will take a long time\n",
      "Big galaxy: has 19474270 star particles, will take a long time\n",
      "Big galaxy: has 11496613 star particles, will take a long time\n"
     ]
    }
   ],
   "source": [
    "sim_inputs = [\n",
    "    'm12z_res4200',\n",
    "    'm12_elvis_Juliet_res3500',\n",
    "    'm12_elvis_Romeo_res3500',\n",
    "    'm12f_res7100'\n",
    "]\n",
    "output_file = 'FIRE_m12_4.csv'\n",
    "results = []\n",
    "for sim in sim_inputs: \n",
    "    sim_path = '/DFS-L/DATA/cosmo/grenache/staudt/FIRE/GVB_202304/' + str(sim) + '/output/0.0_to_10.0_kpc/hdf5/snapdir_600/'\n",
    "    star_snapdict, gas_snapdict = galaxy_tools.load_sim(sim_path, snap_num)\n",
    "    result = mg.iter_RIT_3d(star_snapdict, initial_max_radius = 500000000.0)\n",
    "    if result:\n",
    "        results.append({\n",
    "            'simulation': sim,\n",
    "            'a': result['a'],\n",
    "            'b': result['b'],\n",
    "            'c': result['c'],\n",
    "            'b/a': result['b/a'],\n",
    "            'c/a': result['c/a'],\n",
    "            'c/b': result['c/b'],\n",
    "            'ellipticity': result['ellipticity'],\n",
    "            'triaxiality': result['triaxiality'],\n",
    "            'iterations': result['iterations'],\n",
    "            'initial_particles': result['initial_particles'],\n",
    "            'remaining_particles': result['remaining_particles'],\n",
    "            'max_radius': result['max_radius'],\n",
    "            'r_50': result['r_50'],\n",
    "            'mass': result['mass'],\n",
    "            'cm': result['cm'],\n",
    "            'rotation_matrix' : result['rotation_matrix'],\n",
    "            'remaining_galaxy': result['remaining_galaxy']\n",
    "        })\n",
    "    mg.csv_3d('3D shapes', output_file, results) "
   ]
  },
  {
   "cell_type": "code",
   "execution_count": null,
   "id": "9f7dcd6b-9390-44f8-b8e6-59e9eb010956",
   "metadata": {},
   "outputs": [],
   "source": [
    "'''\n",
    "sim_inputs = [\n",
    "    'm12b_res7100',\n",
    "    'm12_elvis_Louise_res4000',\n",
    "    'm12_elvis_Romulus_res4000',\n",
    "    'm12i_res7100',\n",
    "    'm12w_res7100',\n",
    "    'm12c_res7100',\n",
    "    'm12_elvis_Remus_res4000',\n",
    "    'm12_elvis_Thelma_res4000',\n",
    "    'm12m_res7100',\n",
    "    'm12z_res4200',\n",
    "    'm12_elvis_Juliet_res3500',\n",
    "    'm12_elvis_Romeo_res3500',\n",
    "    'm12f_res7100'\n",
    "]\n",
    "\n",
    "# /DFS-L/DATA/cosmo/grenache/staudt/FIRE/GVB_202304 + str(sim)\n",
    "snap_num = 600\n",
    "sim_path = '/DFS-L/DATA/cosmo/grenache/staudt/FIRE/GVB_202304/' + 'm12_elvis_Romeo_res3500' + '/output/0.0_to_10.0_kpc/hdf5/snapdir_600/'\n",
    "print(sim_path)\n",
    "star_snapdict, initial_max_radius = 500000000.0, gas_snapdict = galaxy_tools.load_sim(sim_path, snap_num)\n",
    "'''"
   ]
  }
 ],
 "metadata": {
  "kernelspec": {
   "display_name": "Python 3 (ipykernel)",
   "language": "python",
   "name": "python3"
  },
  "language_info": {
   "codemirror_mode": {
    "name": "ipython",
    "version": 3
   },
   "file_extension": ".py",
   "mimetype": "text/x-python",
   "name": "python",
   "nbconvert_exporter": "python",
   "pygments_lexer": "ipython3",
   "version": "3.9.18"
  }
 },
 "nbformat": 4,
 "nbformat_minor": 5
}
