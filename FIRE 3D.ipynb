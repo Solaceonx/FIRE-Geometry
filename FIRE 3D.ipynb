{
 "cells": [
  {
   "cell_type": "code",
   "execution_count": 1,
   "id": "1ae97b73-c5db-4ea4-97da-8b37345dd838",
   "metadata": {},
   "outputs": [
    {
     "name": "stdout",
     "output_type": "stream",
     "text": [
      "Missing firefly, obtain it at http://github.com/ageller/Firefly or pip install firefly.\n"
     ]
    }
   ],
   "source": [
    "import plot_galaxy as gplot\n",
    "import mg"
   ]
  },
  {
   "cell_type": "code",
   "execution_count": 2,
   "id": "00091a00-66b5-4f47-b23e-f6b6f7f3f243",
   "metadata": {},
   "outputs": [
    {
     "name": "stderr",
     "output_type": "stream",
     "text": [
      "/export/nfs0home/lyxia/scripts/galaxy_tools.py:211: FutureWarning: The frame.append method is deprecated and will be removed from pandas in a future version. Use pandas.concat instead.\n",
      "  halo = halo.append(halo_hold)\n",
      "/export/nfs0home/lyxia/scripts/galaxy_tools.py:211: FutureWarning: The frame.append method is deprecated and will be removed from pandas in a future version. Use pandas.concat instead.\n",
      "  halo = halo.append(halo_hold)\n",
      "/export/nfs0home/lyxia/scripts/galaxy_tools.py:211: FutureWarning: The frame.append method is deprecated and will be removed from pandas in a future version. Use pandas.concat instead.\n",
      "  halo = halo.append(halo_hold)\n",
      "/export/nfs0home/lyxia/scripts/galaxy_tools.py:211: FutureWarning: The frame.append method is deprecated and will be removed from pandas in a future version. Use pandas.concat instead.\n",
      "  halo = halo.append(halo_hold)\n",
      "/export/nfs0home/lyxia/scripts/galaxy_tools.py:211: FutureWarning: The frame.append method is deprecated and will be removed from pandas in a future version. Use pandas.concat instead.\n",
      "  halo = halo.append(halo_hold)\n",
      "/export/nfs0home/lyxia/scripts/galaxy_tools.py:211: FutureWarning: The frame.append method is deprecated and will be removed from pandas in a future version. Use pandas.concat instead.\n",
      "  halo = halo.append(halo_hold)\n",
      "/export/nfs0home/lyxia/scripts/galaxy_tools.py:211: FutureWarning: The frame.append method is deprecated and will be removed from pandas in a future version. Use pandas.concat instead.\n",
      "  halo = halo.append(halo_hold)\n",
      "/export/nfs0home/lyxia/scripts/galaxy_tools.py:211: FutureWarning: The frame.append method is deprecated and will be removed from pandas in a future version. Use pandas.concat instead.\n",
      "  halo = halo.append(halo_hold)\n",
      "/export/nfs0home/lyxia/scripts/galaxy_tools.py:211: FutureWarning: The frame.append method is deprecated and will be removed from pandas in a future version. Use pandas.concat instead.\n",
      "  halo = halo.append(halo_hold)\n",
      "/export/nfs0home/lyxia/scripts/galaxy_tools.py:211: FutureWarning: The frame.append method is deprecated and will be removed from pandas in a future version. Use pandas.concat instead.\n",
      "  halo = halo.append(halo_hold)\n",
      "/export/nfs0home/lyxia/scripts/galaxy_tools.py:211: FutureWarning: The frame.append method is deprecated and will be removed from pandas in a future version. Use pandas.concat instead.\n",
      "  halo = halo.append(halo_hold)\n",
      "/export/nfs0home/lyxia/scripts/galaxy_tools.py:211: FutureWarning: The frame.append method is deprecated and will be removed from pandas in a future version. Use pandas.concat instead.\n",
      "  halo = halo.append(halo_hold)\n",
      "/export/nfs0home/lyxia/scripts/galaxy_tools.py:211: FutureWarning: The frame.append method is deprecated and will be removed from pandas in a future version. Use pandas.concat instead.\n",
      "  halo = halo.append(halo_hold)\n",
      "/export/nfs0home/lyxia/scripts/galaxy_tools.py:211: FutureWarning: The frame.append method is deprecated and will be removed from pandas in a future version. Use pandas.concat instead.\n",
      "  halo = halo.append(halo_hold)\n",
      "/export/nfs0home/lyxia/scripts/galaxy_tools.py:211: FutureWarning: The frame.append method is deprecated and will be removed from pandas in a future version. Use pandas.concat instead.\n",
      "  halo = halo.append(halo_hold)\n",
      "/export/nfs0home/lyxia/scripts/galaxy_tools.py:211: FutureWarning: The frame.append method is deprecated and will be removed from pandas in a future version. Use pandas.concat instead.\n",
      "  halo = halo.append(halo_hold)\n",
      "/export/nfs0home/lyxia/scripts/galaxy_tools.py:211: FutureWarning: The frame.append method is deprecated and will be removed from pandas in a future version. Use pandas.concat instead.\n",
      "  halo = halo.append(halo_hold)\n",
      "/export/nfs0home/lyxia/scripts/galaxy_tools.py:211: FutureWarning: The frame.append method is deprecated and will be removed from pandas in a future version. Use pandas.concat instead.\n",
      "  halo = halo.append(halo_hold)\n",
      "/export/nfs0home/lyxia/scripts/galaxy_tools.py:211: FutureWarning: The frame.append method is deprecated and will be removed from pandas in a future version. Use pandas.concat instead.\n",
      "  halo = halo.append(halo_hold)\n",
      "/export/nfs0home/lyxia/scripts/galaxy_tools.py:211: FutureWarning: The frame.append method is deprecated and will be removed from pandas in a future version. Use pandas.concat instead.\n",
      "  halo = halo.append(halo_hold)\n",
      "/export/nfs0home/lyxia/scripts/galaxy_tools.py:211: FutureWarning: The frame.append method is deprecated and will be removed from pandas in a future version. Use pandas.concat instead.\n",
      "  halo = halo.append(halo_hold)\n",
      "/export/nfs0home/lyxia/scripts/galaxy_tools.py:211: FutureWarning: The frame.append method is deprecated and will be removed from pandas in a future version. Use pandas.concat instead.\n",
      "  halo = halo.append(halo_hold)\n",
      "/export/nfs0home/lyxia/scripts/galaxy_tools.py:211: FutureWarning: The frame.append method is deprecated and will be removed from pandas in a future version. Use pandas.concat instead.\n",
      "  halo = halo.append(halo_hold)\n",
      "/export/nfs0home/lyxia/scripts/galaxy_tools.py:211: FutureWarning: The frame.append method is deprecated and will be removed from pandas in a future version. Use pandas.concat instead.\n",
      "  halo = halo.append(halo_hold)\n",
      "/export/nfs0home/lyxia/scripts/galaxy_tools.py:211: FutureWarning: The frame.append method is deprecated and will be removed from pandas in a future version. Use pandas.concat instead.\n",
      "  halo = halo.append(halo_hold)\n",
      "/export/nfs0home/lyxia/scripts/galaxy_tools.py:211: FutureWarning: The frame.append method is deprecated and will be removed from pandas in a future version. Use pandas.concat instead.\n",
      "  halo = halo.append(halo_hold)\n",
      "/export/nfs0home/lyxia/scripts/galaxy_tools.py:211: FutureWarning: The frame.append method is deprecated and will be removed from pandas in a future version. Use pandas.concat instead.\n",
      "  halo = halo.append(halo_hold)\n",
      "/export/nfs0home/lyxia/scripts/galaxy_tools.py:211: FutureWarning: The frame.append method is deprecated and will be removed from pandas in a future version. Use pandas.concat instead.\n",
      "  halo = halo.append(halo_hold)\n"
     ]
    }
   ],
   "source": [
    "# measure m10 galaxies\n",
    "sim_inputs = ['m10b_res500', 'm10c_res500', 'm10d_res500', 'm10e_res500', 'm10f_res500', 'm10h_res500', 'm10i_res500', 'm10j_res500','m10k_res500','m10l_res500','m10m_res500']\n",
    "snap_num_input = 184\n",
    "output_file = 'FIREm10.csv'\n",
    "results = mg.find_galaxy_shape3d(sim_inputs, output_file, snap_num_input, repeats = 1)"
   ]
  },
  {
   "cell_type": "code",
   "execution_count": 3,
   "id": "72e31ae3-24de-4895-ba5b-3b09585e5cf1",
   "metadata": {},
   "outputs": [],
   "source": [
    "# measure m11 galaxies\n",
    "sim_inputs = ['m11a_res2100','m11b_res2100','m11c_res2100', 'm11d_res7100', 'm11e_res7100', 'm11h_res7100','m11i_res7100','m11q_res7100','m11v_res7100']\n",
    "snap_num_input = 600\n",
    "output_file = 'FIREm11.csv'\n",
    "results = mg.find_galaxy_shape3d(sim_inputs, output_file, snap_num_input, repeats = 1)"
   ]
  },
  {
   "cell_type": "code",
   "execution_count": null,
   "id": "ae020e8b-dddb-49f7-b6c8-4cd752cfff33",
   "metadata": {},
   "outputs": [],
   "source": [
    "# measure romeo\n",
    "sim_inputs = ['m12_elvis_RomeoJuliet_res3500']\n",
    "snap_num_input = 600\n",
    "output_file = 'romeo.csv'\n",
    "results = mg.find_galaxy_shape3d(sim_inputs, output_file, snap_num_input)"
   ]
  }
 ],
 "metadata": {
  "kernelspec": {
   "display_name": "Python 3 (ipykernel)",
   "language": "python",
   "name": "python3"
  },
  "language_info": {
   "codemirror_mode": {
    "name": "ipython",
    "version": 3
   },
   "file_extension": ".py",
   "mimetype": "text/x-python",
   "name": "python",
   "nbconvert_exporter": "python",
   "pygments_lexer": "ipython3",
   "version": "3.9.18"
  }
 },
 "nbformat": 4,
 "nbformat_minor": 5
}
