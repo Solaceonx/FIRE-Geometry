{
 "cells": [
  {
   "cell_type": "code",
   "execution_count": 1,
   "id": "63d3a5a7-e2be-4c00-87b8-16dcfe08ce33",
   "metadata": {},
   "outputs": [],
   "source": [
    "import pandas as pd\n",
    "import os\n",
    "import pandas as pd\n",
    "import os\n",
    "\n",
    "def combine_csv_files_in_folder(folder_path, output_path):\n",
    "    \"\"\"\n",
    "    Combines all CSV files in a specified folder into a single CSV file.\n",
    "\n",
    "    Parameters:\n",
    "    folder_path (str): Path to the folder containing CSV files.\n",
    "    output_path (str): Path to the output CSV file.\n",
    "\n",
    "    Returns:\n",
    "    None\n",
    "    \"\"\"\n",
    "    # List to hold dataframes\n",
    "    dataframes = []\n",
    "\n",
    "    # Iterate over all files in the folder\n",
    "    for file_name in os.listdir(folder_path):\n",
    "        # Construct full file path\n",
    "        file_path = os.path.join(folder_path, file_name)\n",
    "        # Check if the file is a CSV\n",
    "        if os.path.isfile(file_path) and file_name.endswith('.csv'):\n",
    "            df = pd.read_csv(file_path)\n",
    "            dataframes.append(df)\n",
    "        else:\n",
    "            print(f\"File {file_path} is not a CSV. Skipping.\")\n",
    "\n",
    "    # Concatenate all dataframes\n",
    "    combined_df = pd.concat(dataframes, ignore_index=True)\n",
    "\n",
    "    # Write the combined dataframe to a new CSV file\n",
    "    combined_df.to_csv(output_path, index=False)\n",
    "    print(f\"Combined CSV file saved to {output_path}\")\n"
   ]
  },
  {
   "cell_type": "code",
   "execution_count": 3,
   "id": "ddaadfbe-bac1-4130-a33a-99ec387df3e5",
   "metadata": {},
   "outputs": [
    {
     "name": "stdout",
     "output_type": "stream",
     "text": [
      "Combined CSV file saved to m12_redshift_shapes/FIRE_m12_juliet.csv\n"
     ]
    }
   ],
   "source": [
    "# Example usage\n",
    "folder_path = 'm12_redshift_shapes/juliet'\n",
    "output_path = 'm12_redshift_shapes/FIRE_m12_juliet.csv'\n",
    "\n",
    "combine_csv_files_in_folder(folder_path, output_path)"
   ]
  },
  {
   "cell_type": "code",
   "execution_count": 2,
   "id": "2a2179eb-bc78-488e-9006-056f50f7da5b",
   "metadata": {},
   "outputs": [
    {
     "name": "stdout",
     "output_type": "stream",
     "text": [
      "File m12_redshift_shapes/m12b/.ipynb_checkpoints is not a CSV. Skipping.\n",
      "Combined CSV file saved to m12_redshift_shapes/FIRE_m12b.csv\n"
     ]
    }
   ],
   "source": [
    "# Example usage\n",
    "folder_path = 'm12_redshift_shapes/m12b'\n",
    "output_path = 'm12_redshift_shapes/FIRE_m12b.csv'\n",
    "\n",
    "combine_csv_files_in_folder(folder_path, output_path)"
   ]
  },
  {
   "cell_type": "code",
   "execution_count": 3,
   "id": "4f45bc41-9cc4-4f33-9853-e66956f0f1c9",
   "metadata": {},
   "outputs": [
    {
     "name": "stdout",
     "output_type": "stream",
     "text": [
      "File m12_redshift_shapes/m12c/.ipynb_checkpoints is not a CSV. Skipping.\n",
      "Combined CSV file saved to m12_redshift_shapes/FIRE_m12c.csv\n"
     ]
    }
   ],
   "source": [
    "# Example usage\n",
    "folder_path = 'm12_redshift_shapes/m12c'\n",
    "output_path = 'm12_redshift_shapes/FIRE_m12c.csv'\n",
    "\n",
    "combine_csv_files_in_folder(folder_path, output_path)"
   ]
  },
  {
   "cell_type": "code",
   "execution_count": 4,
   "id": "206fe24d-bd0f-4614-a3ac-edd6e32162f2",
   "metadata": {},
   "outputs": [
    {
     "name": "stdout",
     "output_type": "stream",
     "text": [
      "File m12_redshift_shapes/m12f/.ipynb_checkpoints is not a CSV. Skipping.\n",
      "Combined CSV file saved to m12_redshift_shapes/FIRE_m12f.csv\n"
     ]
    }
   ],
   "source": [
    "# Example usage\n",
    "folder_path = 'm12_redshift_shapes/m12f'\n",
    "output_path = 'm12_redshift_shapes/FIRE_m12f.csv'\n",
    "\n",
    "combine_csv_files_in_folder(folder_path, output_path)"
   ]
  },
  {
   "cell_type": "code",
   "execution_count": 6,
   "id": "f9f65b22-2af8-45d0-a668-427a4d5b102c",
   "metadata": {},
   "outputs": [
    {
     "name": "stdout",
     "output_type": "stream",
     "text": [
      "File m12_redshift_shapes/m12b_01/.ipynb_checkpoints is not a CSV. Skipping.\n",
      "Combined CSV file saved to m12_redshift_shapes/FIRE_m12b_01.csv\n"
     ]
    }
   ],
   "source": [
    "# Example usage\n",
    "folder_path = 'm12_redshift_shapes/m12b_01'\n",
    "output_path = 'm12_redshift_shapes/FIRE_m12b_01.csv'\n",
    "\n",
    "combine_csv_files_in_folder(folder_path, output_path)"
   ]
  },
  {
   "cell_type": "code",
   "execution_count": 6,
   "id": "84457afa-6f87-472d-a62a-6252b5966f70",
   "metadata": {},
   "outputs": [
    {
     "name": "stdout",
     "output_type": "stream",
     "text": [
      "File m12_redshift_shapes/romeo/.ipynb_checkpoints is not a CSV. Skipping.\n",
      "Combined CSV file saved to m12_redshift_shapes/FIRE_m12_romeo.csv\n"
     ]
    }
   ],
   "source": [
    "# Example usage\n",
    "folder_path = 'm12_redshift_shapes/romeo'\n",
    "output_path = 'm12_redshift_shapes/FIRE_m12_romeo.csv'\n",
    "\n",
    "combine_csv_files_in_folder(folder_path, output_path)"
   ]
  },
  {
   "cell_type": "code",
   "execution_count": 8,
   "id": "60ec51f5-5f06-48fc-810c-0a40d83da4f1",
   "metadata": {},
   "outputs": [
    {
     "name": "stdout",
     "output_type": "stream",
     "text": [
      "File m12_redshift_shapes/m12m/.ipynb_checkpoints is not a CSV. Skipping.\n",
      "Combined CSV file saved to m12_redshift_shapes/FIRE_m12m.csv\n",
      "File m12_redshift_shapes/m12r/.ipynb_checkpoints is not a CSV. Skipping.\n",
      "Combined CSV file saved to m12_redshift_shapes/FIRE_m12r.csv\n",
      "File m12_redshift_shapes/m12w/.ipynb_checkpoints is not a CSV. Skipping.\n",
      "Combined CSV file saved to m12_redshift_shapes/FIRE_m12w.csv\n",
      "File m12_redshift_shapes/m12z/.ipynb_checkpoints is not a CSV. Skipping.\n",
      "Combined CSV file saved to m12_redshift_shapes/FIRE_m12z.csv\n"
     ]
    }
   ],
   "source": [
    "# Example usage\n",
    "folder_path = 'm12_redshift_shapes/m12m'\n",
    "output_path = 'm12_redshift_shapes/FIRE_m12m.csv'\n",
    "\n",
    "combine_csv_files_in_folder(folder_path, output_path)\n",
    "# Example usage\n",
    "folder_path = 'm12_redshift_shapes/m12r'\n",
    "output_path = 'm12_redshift_shapes/FIRE_m12r.csv'\n",
    "\n",
    "combine_csv_files_in_folder(folder_path, output_path)\n",
    "# Example usage\n",
    "folder_path = 'm12_redshift_shapes/m12w'\n",
    "output_path = 'm12_redshift_shapes/FIRE_m12w.csv'\n",
    "\n",
    "combine_csv_files_in_folder(folder_path, output_path)\n",
    "# Example usage\n",
    "folder_path = 'm12_redshift_shapes/m12z'\n",
    "output_path = 'm12_redshift_shapes/FIRE_m12z.csv'\n",
    "\n",
    "combine_csv_files_in_folder(folder_path, output_path)\n",
    "    "
   ]
  },
  {
   "cell_type": "code",
   "execution_count": null,
   "id": "c7f64702-0bdc-49e5-a643-aece7f5510a0",
   "metadata": {},
   "outputs": [],
   "source": [
    "folder_path = 'm12_redshift_shapes/m12b_01'\n",
    "output_path = 'm12_redshift_shapes/FIRE_m12b_01.csv'\n",
    "combine_csv_files_in_folder(folder_path, output_path)\n",
    "\n",
    "folder_path = 'm12_redshift_shapes/m12c_01'\n",
    "output_path = 'm12_redshift_shapes/FIRE_m12c_01.csv'\n",
    "combine_csv_files_in_folder(folder_path, output_path)\n",
    "\n",
    "folder_path = 'm12_redshift_shapes/m12f_01'\n",
    "output_path = 'm12_redshift_shapes/FIRE_m12f_01.csv'\n",
    "combine_csv_files_in_folder(folder_path, output_path)\n",
    "\n",
    "folder_path = 'm12_redshift_shapes/romeo_01'\n",
    "output_path = 'm12_redshift_shapes/FIRE_romeo_01.csv'\n",
    "combine_csv_files_in_folder(folder_path, output_path)\n",
    "\n",
    "folder_path = 'm12_redshift_shapes/juliet_01'\n",
    "output_path = 'm12_redshift_shapes/FIRE_juliet_01.csv'\n",
    "combine_csv_files_in_folder(folder_path, output_path)\n",
    " "
   ]
  }
 ],
 "metadata": {
  "kernelspec": {
   "display_name": "Python 3 (ipykernel)",
   "language": "python",
   "name": "python3"
  },
  "language_info": {
   "codemirror_mode": {
    "name": "ipython",
    "version": 3
   },
   "file_extension": ".py",
   "mimetype": "text/x-python",
   "name": "python",
   "nbconvert_exporter": "python",
   "pygments_lexer": "ipython3",
   "version": "3.9.18"
  }
 },
 "nbformat": 4,
 "nbformat_minor": 5
}
