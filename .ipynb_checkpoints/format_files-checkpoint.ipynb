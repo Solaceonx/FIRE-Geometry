{
 "cells": [
  {
   "cell_type": "code",
   "execution_count": 2,
   "id": "63d3a5a7-e2be-4c00-87b8-16dcfe08ce33",
   "metadata": {},
   "outputs": [
    {
     "name": "stdout",
     "output_type": "stream",
     "text": [
      "Combined CSV file saved to m12 redshift shapes/combined_m12.csv\n"
     ]
    }
   ],
   "source": [
    "import pandas as pd\n",
    "import os\n",
    "\n",
    "def combine_csv_files(file_paths, output_path):\n",
    "    \"\"\"\n",
    "    Combines multiple CSV files into a single CSV file.\n",
    "\n",
    "    Parameters:\n",
    "    file_paths (list of str): List of paths to the CSV files to combine.\n",
    "    output_path (str): Path to the output CSV file.\n",
    "\n",
    "    Returns:\n",
    "    None\n",
    "    \"\"\"\n",
    "    # List to hold dataframes\n",
    "    dataframes = []\n",
    "\n",
    "    # Read each CSV file and append the dataframe to the list\n",
    "    for file_path in file_paths:\n",
    "        if os.path.isfile(file_path):\n",
    "            df = pd.read_csv(file_path)\n",
    "            dataframes.append(df)\n",
    "        else:\n",
    "            print(f\"File {file_path} does not exist. Skipping.\")\n",
    "\n",
    "    # Concatenate all dataframes\n",
    "    combined_df = pd.concat(dataframes, ignore_index=True)\n",
    "\n",
    "    # Write the combined dataframe to a new CSV file\n",
    "    combined_df.to_csv(output_path, index=False)\n",
    "    print(f\"Combined CSV file saved to {output_path}\")\n",
    "\n",
    "# Example usage\n",
    "csv_files = [\n",
    "    'm12 redshift shapes/FIRE_m12b_res7100_041.csv',\n",
    "    'm12 redshift shapes/FIRE_m12b_res7100_067.csv',\n",
    "    'm12 redshift shapes/FIRE_m12b_res7100_120.csv',\n",
    "    'm12 redshift shapes/FIRE_m12b_res7100_172.csv',\n",
    "    'm12 redshift shapes/FIRE_m12b_res7100_277.csv',\n",
    "]\n",
    "csv_files = [\n",
    "    'm12 redshift shapes/FIRE_m12_elvis_RomeoJuliet_res3500_041.csv',\n",
    "    'm12 redshift shapes/FIRE_m12_elvis_RomeoJuliet_res3500_067.csv',\n",
    "    'm12 redshift shapes/FIRE_m12_elvis_RomeoJuliet_res3500_120.csv',\n",
    "    'm12 redshift shapes/FIRE_m12_elvis_RomeoJuliet_res3500_172.csv',\n",
    "    'm12 redshift shapes/FIRE_m12_elvis_RomeoJuliet_res3500_277.csv',\n",
    "    'm12 redshift shapes/FIRE_m12_elvis_RomeoJuliet_res3500_382.csv',\n",
    "    'm12 redshift shapes/FIRE_m12_elvis_RomeoJuliet_res3500_534.csv',\n",
    "    'm12 redshift shapes/FIRE_m12_elvis_RomeoJuliet_res3500_600.csv',\n",
    "]\n",
    "\n",
    "output_path = 'm12 redshift shapes/FIRE_m12_elvis_RomeoJuliet.csv'\n",
    "\n",
    "combine_csv_files(csv_files, output_path)\n"
   ]
  },
  {
   "cell_type": "code",
   "execution_count": null,
   "id": "2dc079b1-8b4c-41a5-ab26-4c05e471e61a",
   "metadata": {},
   "outputs": [],
   "source": []
  }
 ],
 "metadata": {
  "kernelspec": {
   "display_name": "Python 3 (ipykernel)",
   "language": "python",
   "name": "python3"
  },
  "language_info": {
   "codemirror_mode": {
    "name": "ipython",
    "version": 3
   },
   "file_extension": ".py",
   "mimetype": "text/x-python",
   "name": "python",
   "nbconvert_exporter": "python",
   "pygments_lexer": "ipython3",
   "version": "3.9.18"
  }
 },
 "nbformat": 4,
 "nbformat_minor": 5
}
