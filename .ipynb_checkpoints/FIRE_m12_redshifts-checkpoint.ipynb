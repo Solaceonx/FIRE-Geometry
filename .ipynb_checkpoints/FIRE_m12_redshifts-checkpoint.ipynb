{
 "cells": [
  {
   "cell_type": "code",
   "execution_count": null,
   "id": "54359226-c1c0-46b8-895d-179cf32622ec",
   "metadata": {},
   "outputs": [],
   "source": [
    "import plot_galaxy as gplot\n",
    "import mg\n",
    "import galaxy_tools\n",
    "snap_nums = ['041', '067', 120, 172, 277, 382, 534, 600]"
   ]
  },
  {
   "cell_type": "code",
   "execution_count": null,
   "id": "76fa14c9-e650-4e31-9b92-71bc9e753ecc",
   "metadata": {},
   "outputs": [],
   "source": [
    "sim_inputs = [\n",
    "    'm12b_res7100',\n",
    "    'm12c_res7100',\n",
    "    'm12f_res7100',\n",
    "]\n",
    "for snap_num in snap_nums:\n",
    "    mg.measure_m12(sim_inputs, snap_num = snap_num)"
   ]
  }
 ],
 "metadata": {
  "kernelspec": {
   "display_name": "Python 3 (ipykernel)",
   "language": "python",
   "name": "python3"
  },
  "language_info": {
   "codemirror_mode": {
    "name": "ipython",
    "version": 3
   },
   "file_extension": ".py",
   "mimetype": "text/x-python",
   "name": "python",
   "nbconvert_exporter": "python",
   "pygments_lexer": "ipython3",
   "version": "3.9.18"
  }
 },
 "nbformat": 4,
 "nbformat_minor": 5
}
