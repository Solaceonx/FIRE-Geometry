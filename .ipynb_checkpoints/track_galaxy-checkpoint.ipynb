{
 "cells": [
  {
   "cell_type": "code",
   "execution_count": 1,
   "id": "146e1a2c-a880-4c98-b43a-b81c8cd7b30a",
   "metadata": {},
   "outputs": [
    {
     "name": "stdout",
     "output_type": "stream",
     "text": [
      "Missing firefly, obtain it at http://github.com/ageller/Firefly or pip install firefly.\n"
     ]
    }
   ],
   "source": [
    "import plot_galaxy as gplot\n",
    "import mg\n",
    "import galaxy_tools\n",
    "# These snapshots correspond to redshifts of 7, 5, 3, 2, 1, 0.5, 0.1, and 0, respectively. \n",
    "age = 0.1\n",
    "snap_nums = [102, 214]\n"
   ]
  },
  {
   "cell_type": "code",
   "execution_count": 3,
   "id": "c2304992-4f28-4c41-aba0-0a7fef40b7ce",
   "metadata": {},
   "outputs": [
    {
     "name": "stdout",
     "output_type": "stream",
     "text": [
      "loading galaxy 'm12b_res7100'\n"
     ]
    },
    {
     "ename": "NameError",
     "evalue": "name 'save_coordinates' is not defined",
     "output_type": "error",
     "traceback": [
      "\u001b[0;31m---------------------------------------------------------------------------\u001b[0m",
      "\u001b[0;31mNameError\u001b[0m                                 Traceback (most recent call last)",
      "Cell \u001b[0;32mIn[3], line 7\u001b[0m\n\u001b[1;32m      5\u001b[0m star_center \u001b[38;5;241m=\u001b[39m mg\u001b[38;5;241m.\u001b[39mmeasure_m12_coords(sim_inputs, snap_num \u001b[38;5;241m=\u001b[39m snap_num, age_range \u001b[38;5;241m=\u001b[39m age)\n\u001b[1;32m      6\u001b[0m csv_file \u001b[38;5;241m=\u001b[39m \u001b[38;5;124m'\u001b[39m\u001b[38;5;124mm12b_coords.csv\u001b[39m\u001b[38;5;124m'\u001b[39m\n\u001b[0;32m----> 7\u001b[0m \u001b[43msave_coordinates\u001b[49m(star_center)\n",
      "\u001b[0;31mNameError\u001b[0m: name 'save_coordinates' is not defined"
     ]
    }
   ],
   "source": [
    "sim_inputs = [\n",
    "    'm12b_res7100',\n",
    "]\n",
    "for snap_num in snap_nums:\n",
    "    star_center = mg.measure_m12_coords(sim_inputs, snap_num = snap_num, age_range = age)\n",
    "    csv_file = 'm12b_coords.csv'\n",
    "    save_coordinates(star_center)"
   ]
  },
  {
   "cell_type": "code",
   "execution_count": null,
   "id": "1d94f9ed-5dee-4c5b-8834-0350bcf3b4fd",
   "metadata": {},
   "outputs": [],
   "source": []
  }
 ],
 "metadata": {
  "kernelspec": {
   "display_name": "Python 3 (ipykernel)",
   "language": "python",
   "name": "python3"
  },
  "language_info": {
   "codemirror_mode": {
    "name": "ipython",
    "version": 3
   },
   "file_extension": ".py",
   "mimetype": "text/x-python",
   "name": "python",
   "nbconvert_exporter": "python",
   "pygments_lexer": "ipython3",
   "version": "3.9.18"
  }
 },
 "nbformat": 4,
 "nbformat_minor": 5
}
