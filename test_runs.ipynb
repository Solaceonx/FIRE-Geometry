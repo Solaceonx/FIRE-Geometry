{
 "cells": [
  {
   "cell_type": "code",
   "execution_count": 6,
   "id": "60d531d2-bfd9-482d-a721-8d929de3060e",
   "metadata": {},
   "outputs": [],
   "source": [
    "import plot_galaxy as gplot\n",
    "import mg\n",
    "half_years = [0.5,1.0,1.5,2.0,2.5,3.0,3.5,4.0,4.5,5.0,5.5,6.0,6.5,7.0,7.5,8.0,8.5,9.0,9.5,10.0,10.5,11.0,11.5,12.0,12.5,13.0]\n",
    "years = [1,2,3,4,5,6,7,8,9,10,11,12,13]"
   ]
  },
  {
   "cell_type": "code",
   "execution_count": 2,
   "id": "f82f3eb1-b1b8-45eb-b900-3742eed36d56",
   "metadata": {},
   "outputs": [],
   "source": [
    "sim_inputs = ['m12_elvis_RomeoJuliet_res3500']\n",
    "snap_num_input = 600\n",
    "output_file = 'FIRE_m12_elvis_RomeoJuliet_res3500_AGE.csv'\n",
    "results = mg.find_galaxy_shape3d(sim_inputs, output_file, snap_num_input, repeats = 1, age_partitions = half_years, min_particles = 200)"
   ]
  },
  {
   "cell_type": "code",
   "execution_count": 3,
   "id": "29022c30-7886-4b94-9d5d-bc83a92199d9",
   "metadata": {},
   "outputs": [],
   "source": [
    "sim_inputs = ['m12b_res7100' ]\n",
    "snap_num_input = 600\n",
    "output_file = 'FIREm12b_res7100_600_AGE.csv'\n",
    "results = mg.find_galaxy_shape3d(sim_inputs, output_file, snap_num_input, repeats = 1, age_partitions = half_years, min_particles = 200)"
   ]
  },
  {
   "cell_type": "code",
   "execution_count": 4,
   "id": "fad48ae0-1dce-4759-a7df-74ae4a3db880",
   "metadata": {},
   "outputs": [],
   "source": [
    "sim_inputs = ['m12c_res7100']\n",
    "snap_num_input = 600\n",
    "output_file = 'FIREm12c_res7100_600_AGE.csv'\n",
    "results = mg.find_galaxy_shape3d(sim_inputs, output_file, snap_num_input, repeats = 1, age_partitions = half_years, min_particles = 200)"
   ]
  },
  {
   "cell_type": "code",
   "execution_count": 5,
   "id": "0166cce7-4d1b-4739-8b06-64639b691dce",
   "metadata": {},
   "outputs": [],
   "source": [
    "sim_inputs = ['m12f_res7100' ]\n",
    "snap_num_input = 600\n",
    "output_file = 'FIREm12f_res7100_600_AGE.csv'\n",
    "results = mg.find_galaxy_shape3d(sim_inputs, output_file, snap_num_input, repeats = 1, age_partitions = half_years, min_particles = 200)"
   ]
  },
  {
   "cell_type": "code",
   "execution_count": null,
   "id": "cfe78473-26d7-468e-b01f-5cf71602caea",
   "metadata": {},
   "outputs": [],
   "source": [
    "sim_inputs = ['m11v_res7100']\n",
    "snap_num_input = 600\n",
    "output_file = 'FIREm11v_res7100_600_AGE.csv'\n",
    "results = mg.find_galaxy_shape3d(sim_inputs, output_file, snap_num_input, repeats = 1, age_partitions = half_years, min_particles = 200)"
   ]
  },
  {
   "cell_type": "code",
   "execution_count": 2,
   "id": "134d5daf-dc7a-4880-b795-22554072721f",
   "metadata": {},
   "outputs": [],
   "source": [
    "sim_inputs = ['m11c_res2100']\n",
    "snap_num_input = 600\n",
    "output_file = 'FIREm11c_res2100_600_AGE.csv'\n",
    "results = mg.find_galaxy_shape3d(sim_inputs, output_file, snap_num_input, repeats = 1, age_partitions = half_years, min_particles = 200)"
   ]
  },
  {
   "cell_type": "code",
   "execution_count": 7,
   "id": "651f90a6-6f03-4f09-a088-5002a72fa77e",
   "metadata": {},
   "outputs": [
    {
     "ename": "KeyError",
     "evalue": "\"Unable to open object (object 'host2.index' doesn't exist)\"",
     "output_type": "error",
     "traceback": [
      "\u001b[0;31m---------------------------------------------------------------------------\u001b[0m",
      "\u001b[0;31mKeyError\u001b[0m                                  Traceback (most recent call last)",
      "Cell \u001b[0;32mIn[7], line 4\u001b[0m\n\u001b[1;32m      2\u001b[0m snap_num_input \u001b[38;5;241m=\u001b[39m \u001b[38;5;241m600\u001b[39m\n\u001b[1;32m      3\u001b[0m output_file \u001b[38;5;241m=\u001b[39m \u001b[38;5;124m'\u001b[39m\u001b[38;5;124mFIRE_m12_elvis_RomeoJuliet_res3500_AGE_2.csv\u001b[39m\u001b[38;5;124m'\u001b[39m\n\u001b[0;32m----> 4\u001b[0m results \u001b[38;5;241m=\u001b[39m \u001b[43mmg\u001b[49m\u001b[38;5;241;43m.\u001b[39;49m\u001b[43mfind_galaxy_shape3d\u001b[49m\u001b[43m(\u001b[49m\u001b[43msim_inputs\u001b[49m\u001b[43m,\u001b[49m\u001b[43m \u001b[49m\u001b[43moutput_file\u001b[49m\u001b[43m,\u001b[49m\u001b[43m \u001b[49m\u001b[43msnap_num_input\u001b[49m\u001b[43m,\u001b[49m\u001b[43m \u001b[49m\u001b[43mhost_num\u001b[49m\u001b[43m \u001b[49m\u001b[38;5;241;43m=\u001b[39;49m\u001b[43m \u001b[49m\u001b[38;5;241;43m2\u001b[39;49m\u001b[43m,\u001b[49m\u001b[43m \u001b[49m\u001b[43mrepeats\u001b[49m\u001b[43m \u001b[49m\u001b[38;5;241;43m=\u001b[39;49m\u001b[43m \u001b[49m\u001b[38;5;241;43m1\u001b[39;49m\u001b[43m,\u001b[49m\u001b[43m \u001b[49m\u001b[43mage_partitions\u001b[49m\u001b[43m \u001b[49m\u001b[38;5;241;43m=\u001b[39;49m\u001b[43m \u001b[49m\u001b[43mhalf_years\u001b[49m\u001b[43m,\u001b[49m\u001b[43m \u001b[49m\u001b[43mmin_particles\u001b[49m\u001b[43m \u001b[49m\u001b[38;5;241;43m=\u001b[39;49m\u001b[43m \u001b[49m\u001b[38;5;241;43m200\u001b[39;49m\u001b[43m)\u001b[49m\n",
      "File \u001b[0;32m/nfspool-0/home/lyxia/scripts/FIRE Geometry/mg.py:1102\u001b[0m, in \u001b[0;36mfind_galaxy_shape3d\u001b[0;34m(sim_inputs, output_file, snap_num_input, host_num, rvir_scales, particle_fractions, repeats, FIREBox, min_particles, age_partitions)\u001b[0m\n\u001b[1;32m   1100\u001b[0m if snap_num == 600:\n\u001b[1;32m   1101\u001b[0m     halo_path = '/DFS-L/DATA/cosmo/grenache/aalazar/FIRE/GVB/' + str(sim) + '/halo/rockstar_dm/hdf5/'\n\u001b[0;32m-> 1102\u001b[0m     halo = galaxy_tools.load_halo(halo_path, snap_num, host=True, filetype='hdf5', hostnumber=host_num)\n\u001b[1;32m   1103\u001b[0m elif snap_num == 184:\n\u001b[1;32m   1104\u001b[0m     halo_path = '/DFS-L/DATA/cosmo/grenache/aalazar/FIRE/GVB/' + str(sim) + '/halo/rockstar_dm/catalog/'\n",
      "File \u001b[0;32m~/scripts/galaxy_tools.py:242\u001b[0m, in \u001b[0;36mload_halo\u001b[0;34m(pathtofolder, snapshot, host, filetype, hostnumber)\u001b[0m\n\u001b[1;32m    240\u001b[0m \u001b[38;5;28;01mif\u001b[39;00m host \u001b[38;5;129;01mis\u001b[39;00m \u001b[38;5;28;01mTrue\u001b[39;00m:\n\u001b[1;32m    241\u001b[0m     \u001b[38;5;28;01mif\u001b[39;00m hostnumber \u001b[38;5;241m==\u001b[39m \u001b[38;5;241m2\u001b[39m:\n\u001b[0;32m--> 242\u001b[0m         host_index \u001b[38;5;241m=\u001b[39m \u001b[43mhalo_load\u001b[49m\u001b[43m[\u001b[49m\u001b[38;5;124;43m'\u001b[39;49m\u001b[38;5;124;43mhost2.index\u001b[39;49m\u001b[38;5;124;43m'\u001b[39;49m\u001b[43m]\u001b[49m[\u001b[38;5;241m0\u001b[39m]\n\u001b[1;32m    243\u001b[0m     \u001b[38;5;28;01melse\u001b[39;00m:\n\u001b[1;32m    244\u001b[0m         host_index \u001b[38;5;241m=\u001b[39m halo_load[\u001b[38;5;124m'\u001b[39m\u001b[38;5;124mhost.index\u001b[39m\u001b[38;5;124m'\u001b[39m][\u001b[38;5;241m0\u001b[39m]\n",
      "File \u001b[0;32mh5py/_objects.pyx:54\u001b[0m, in \u001b[0;36mh5py._objects.with_phil.wrapper\u001b[0;34m()\u001b[0m\n",
      "File \u001b[0;32mh5py/_objects.pyx:55\u001b[0m, in \u001b[0;36mh5py._objects.with_phil.wrapper\u001b[0;34m()\u001b[0m\n",
      "File \u001b[0;32m~/miniconda3/envs/morph/lib/python3.9/site-packages/h5py/_hl/group.py:328\u001b[0m, in \u001b[0;36mGroup.__getitem__\u001b[0;34m(self, name)\u001b[0m\n\u001b[1;32m    326\u001b[0m         \u001b[38;5;28;01mraise\u001b[39;00m \u001b[38;5;167;01mValueError\u001b[39;00m(\u001b[38;5;124m\"\u001b[39m\u001b[38;5;124mInvalid HDF5 object reference\u001b[39m\u001b[38;5;124m\"\u001b[39m)\n\u001b[1;32m    327\u001b[0m \u001b[38;5;28;01melif\u001b[39;00m \u001b[38;5;28misinstance\u001b[39m(name, (\u001b[38;5;28mbytes\u001b[39m, \u001b[38;5;28mstr\u001b[39m)):\n\u001b[0;32m--> 328\u001b[0m     oid \u001b[38;5;241m=\u001b[39m \u001b[43mh5o\u001b[49m\u001b[38;5;241;43m.\u001b[39;49m\u001b[43mopen\u001b[49m\u001b[43m(\u001b[49m\u001b[38;5;28;43mself\u001b[39;49m\u001b[38;5;241;43m.\u001b[39;49m\u001b[43mid\u001b[49m\u001b[43m,\u001b[49m\u001b[43m \u001b[49m\u001b[38;5;28;43mself\u001b[39;49m\u001b[38;5;241;43m.\u001b[39;49m\u001b[43m_e\u001b[49m\u001b[43m(\u001b[49m\u001b[43mname\u001b[49m\u001b[43m)\u001b[49m\u001b[43m,\u001b[49m\u001b[43m \u001b[49m\u001b[43mlapl\u001b[49m\u001b[38;5;241;43m=\u001b[39;49m\u001b[38;5;28;43mself\u001b[39;49m\u001b[38;5;241;43m.\u001b[39;49m\u001b[43m_lapl\u001b[49m\u001b[43m)\u001b[49m\n\u001b[1;32m    329\u001b[0m \u001b[38;5;28;01melse\u001b[39;00m:\n\u001b[1;32m    330\u001b[0m     \u001b[38;5;28;01mraise\u001b[39;00m \u001b[38;5;167;01mTypeError\u001b[39;00m(\u001b[38;5;124m\"\u001b[39m\u001b[38;5;124mAccessing a group is done with bytes or str, \u001b[39m\u001b[38;5;124m\"\u001b[39m\n\u001b[1;32m    331\u001b[0m                     \u001b[38;5;124m\"\u001b[39m\u001b[38;5;124m not \u001b[39m\u001b[38;5;132;01m{}\u001b[39;00m\u001b[38;5;124m\"\u001b[39m\u001b[38;5;241m.\u001b[39mformat(\u001b[38;5;28mtype\u001b[39m(name)))\n",
      "File \u001b[0;32mh5py/_objects.pyx:54\u001b[0m, in \u001b[0;36mh5py._objects.with_phil.wrapper\u001b[0;34m()\u001b[0m\n",
      "File \u001b[0;32mh5py/_objects.pyx:55\u001b[0m, in \u001b[0;36mh5py._objects.with_phil.wrapper\u001b[0;34m()\u001b[0m\n",
      "File \u001b[0;32mh5py/h5o.pyx:190\u001b[0m, in \u001b[0;36mh5py.h5o.open\u001b[0;34m()\u001b[0m\n",
      "\u001b[0;31mKeyError\u001b[0m: \"Unable to open object (object 'host2.index' doesn't exist)\""
     ]
    }
   ],
   "source": [
    "sim_inputs = ['m12_elvis_RomeoJuliet_res3500']\n",
    "snap_num_input = 600\n",
    "output_file = 'FIRE_m12_elvis_RomeoJuliet_res3500_AGE_2.csv'\n",
    "results = mg.find_galaxy_shape3d(sim_inputs, output_file, snap_num_input, host_num = 2, repeats = 1, age_partitions = half_years, min_particles = 200)"
   ]
  },
  {
   "cell_type": "code",
   "execution_count": 4,
   "id": "592935cf-0d5f-4a05-90fd-ace5385570b7",
   "metadata": {},
   "outputs": [],
   "source": [
    "sim_inputs = ['m12c_res7100']\n",
    "snap_num_input = 600\n",
    "output_file = 'FIRE_m12c_res7100_AGE.csv'\n",
    "results = mg.find_galaxy_shape3d(sim_inputs, output_file, snap_num_input, repeats = 1, age_partitions = half_years, min_particles = 200)"
   ]
  },
  {
   "cell_type": "code",
   "execution_count": null,
   "id": "ab1a3325-0a34-47ca-a0b2-26e19a899953",
   "metadata": {},
   "outputs": [],
   "source": [
    "sim_input = ['object_284']\n",
    "output_file = 'object_284_1.csv'\n",
    "results = mg.outlier_shape3d(sim_input, output_file, cutoff_radius = 40, cm = [0, -5, 0], FIREBox=1)"
   ]
  },
  {
   "cell_type": "code",
   "execution_count": null,
   "id": "5a7f4547-730c-4843-87de-c94e7f9ce115",
   "metadata": {},
   "outputs": [],
   "source": [
    "# test notebook\n",
    "import plot_galaxy as gplot\n",
    "import mg\n",
    "import os\n",
    "import time\n",
    "import matplotlib.pyplot as plt\n",
    "%matplotlib inline\n",
    "sim_inputs = ['object_398']\n",
    "output_file = 'test398.csv'\n",
    "results = mg.find_galaxy_shape3d(sim_inputs, output_file, FIREBox = 1)\n",
    "galaxy = results[0]['remaining_galaxy']"
   ]
  },
  {
   "cell_type": "code",
   "execution_count": null,
   "id": "e6504abe-208e-437a-b57c-04ba2f178170",
   "metadata": {},
   "outputs": [],
   "source": [
    "gplot.scatter_3d(galaxy)\n"
   ]
  },
  {
   "cell_type": "code",
   "execution_count": null,
   "id": "d1ada234-234e-409e-934a-2b9813664029",
   "metadata": {},
   "outputs": [],
   "source": [
    "x, p, q = results[0]['max_radius'], results[0]['b/a'], results[0]['c/a']\n",
    "y, z = x*p, x*q\n",
    "galaxy = results[0]['remaining_galaxy']\n",
    "gplot.scatter_ellipsoid_3d(galaxy, axis_lengths=(x, y, z))"
   ]
  },
  {
   "cell_type": "code",
   "execution_count": null,
   "id": "41d2dd58-7a98-4893-8c19-6345dda3155b",
   "metadata": {},
   "outputs": [],
   "source": [
    "# test notebook\n",
    "import plot_galaxy as gplot\n",
    "import mg\n",
    "import os\n",
    "import time\n",
    "import matplotlib.pyplot as plt\n",
    "%matplotlib inline\n",
    "sim_inputs = ['object_297']\n",
    "output_file = 'test.csv'\n",
    "results = mg.find_galaxy_shape3d(sim_inputs, output_file, FIREBox = 1)\n",
    "galaxy = results[0]['remaining_galaxy']"
   ]
  },
  {
   "cell_type": "code",
   "execution_count": null,
   "id": "91155663-26db-4541-86da-93a380447d30",
   "metadata": {},
   "outputs": [],
   "source": [
    "x, p, q = results[0]['max_radius'], results[0]['b/a'], results[0]['c/a']\n",
    "y, z = x*p, x*q\n",
    "galaxy = results[0]['remaining_galaxy']\n",
    "gplot.scatter_ellipsoid_3d(galaxy, axis_lengths=(x, y, z))"
   ]
  },
  {
   "cell_type": "code",
   "execution_count": null,
   "id": "32990478-d4a7-410c-950f-d94580473669",
   "metadata": {},
   "outputs": [],
   "source": []
  }
 ],
 "metadata": {
  "kernelspec": {
   "display_name": "Python 3 (ipykernel)",
   "language": "python",
   "name": "python3"
  },
  "language_info": {
   "codemirror_mode": {
    "name": "ipython",
    "version": 3
   },
   "file_extension": ".py",
   "mimetype": "text/x-python",
   "name": "python",
   "nbconvert_exporter": "python",
   "pygments_lexer": "ipython3",
   "version": "3.9.18"
  }
 },
 "nbformat": 4,
 "nbformat_minor": 5
}
