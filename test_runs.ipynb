{
 "cells": [
  {
   "cell_type": "code",
   "execution_count": 1,
   "id": "60d531d2-bfd9-482d-a721-8d929de3060e",
   "metadata": {},
   "outputs": [
    {
     "name": "stdout",
     "output_type": "stream",
     "text": [
      "Missing firefly, obtain it at http://github.com/ageller/Firefly or pip install firefly.\n"
     ]
    }
   ],
   "source": [
    "import plot_galaxy as gplot\n",
    "import mg\n",
    "half_years = [0.5,1.0,1.5,2.0,2.5,3.0,3.5,4.0,4.5,5.0,5.5,6.0,6.5,7.0,7.5,8.0,8.5,9.0,9.5,10.0,10.5,11.0,11.5,12.0,12.5,13.0]\n",
    "years = [1,2,3,4,5,6,7,8,9,10,11,12,13]"
   ]
  },
  {
   "cell_type": "code",
   "execution_count": null,
   "id": "f82f3eb1-b1b8-45eb-b900-3742eed36d56",
   "metadata": {},
   "outputs": [],
   "source": [
    "for sim_input in sim_inputs:"
   ]
  },
  {
   "cell_type": "code",
   "execution_count": null,
   "id": "0166cce7-4d1b-4739-8b06-64639b691dce",
   "metadata": {},
   "outputs": [],
   "source": [
    "sim_inputs = ['m12b_res7100', ]\n",
    "snap_num_input = 600\n",
    "output_file = 'FIREm11h_res7100_600_AGE.csv'\n",
    "results = mg.find_galaxy_shape3d(sim_inputs, output_file, snap_num_input, repeats = 1, age_partitions = half_years, min_particles = 200)"
   ]
  },
  {
   "cell_type": "code",
   "execution_count": null,
   "id": "cfe78473-26d7-468e-b01f-5cf71602caea",
   "metadata": {},
   "outputs": [],
   "source": [
    "sim_inputs = ['m11v_res7100']\n",
    "snap_num_input = 600\n",
    "output_file = 'FIREm11v_res7100_600_AGE.csv'\n",
    "results = mg.find_galaxy_shape3d(sim_inputs, output_file, snap_num_input, repeats = 1, age_partitions = half_years, min_particles = 200)"
   ]
  },
  {
   "cell_type": "code",
   "execution_count": 2,
   "id": "134d5daf-dc7a-4880-b795-22554072721f",
   "metadata": {},
   "outputs": [],
   "source": [
    "sim_inputs = ['m11c_res2100']\n",
    "snap_num_input = 600\n",
    "output_file = 'FIREm11c_res2100_600_AGE.csv'\n",
    "results = mg.find_galaxy_shape3d(sim_inputs, output_file, snap_num_input, repeats = 1, age_partitions = half_years, min_particles = 200)"
   ]
  },
  {
   "cell_type": "code",
   "execution_count": 3,
   "id": "651f90a6-6f03-4f09-a088-5002a72fa77e",
   "metadata": {},
   "outputs": [],
   "source": [
    "sim_inputs = ['m12_elvis_RomeoJuliet_res3500']\n",
    "snap_num_input = 600\n",
    "output_file = 'FIRE_m12_elvis_RomeoJuliet_res3500_AGE.csv'\n",
    "results = mg.find_galaxy_shape3d(sim_inputs, output_file, snap_num_input, repeats = 1, age_partitions = half_years, min_particles = 200)"
   ]
  },
  {
   "cell_type": "code",
   "execution_count": 4,
   "id": "592935cf-0d5f-4a05-90fd-ace5385570b7",
   "metadata": {},
   "outputs": [],
   "source": [
    "sim_inputs = ['m12c_res7100']\n",
    "snap_num_input = 600\n",
    "output_file = 'FIRE_m12c_res7100_AGE.csv'\n",
    "results = mg.find_galaxy_shape3d(sim_inputs, output_file, snap_num_input, repeats = 1, age_partitions = half_years, min_particles = 200)"
   ]
  },
  {
   "cell_type": "code",
   "execution_count": null,
   "id": "ab1a3325-0a34-47ca-a0b2-26e19a899953",
   "metadata": {},
   "outputs": [],
   "source": [
    "sim_input = ['object_284']\n",
    "output_file = 'object_284_1.csv'\n",
    "results = mg.outlier_shape3d(sim_input, output_file, cutoff_radius = 40, cm = [0, -5, 0], FIREBox=1)"
   ]
  },
  {
   "cell_type": "code",
   "execution_count": null,
   "id": "5a7f4547-730c-4843-87de-c94e7f9ce115",
   "metadata": {},
   "outputs": [],
   "source": [
    "# test notebook\n",
    "import plot_galaxy as gplot\n",
    "import mg\n",
    "import os\n",
    "import time\n",
    "import matplotlib.pyplot as plt\n",
    "%matplotlib inline\n",
    "sim_inputs = ['object_398']\n",
    "output_file = 'test398.csv'\n",
    "results = mg.find_galaxy_shape3d(sim_inputs, output_file, FIREBox = 1)\n",
    "galaxy = results[0]['remaining_galaxy']"
   ]
  },
  {
   "cell_type": "code",
   "execution_count": null,
   "id": "e6504abe-208e-437a-b57c-04ba2f178170",
   "metadata": {},
   "outputs": [],
   "source": [
    "gplot.scatter_3d(galaxy)\n"
   ]
  },
  {
   "cell_type": "code",
   "execution_count": null,
   "id": "d1ada234-234e-409e-934a-2b9813664029",
   "metadata": {},
   "outputs": [],
   "source": [
    "x, p, q = results[0]['max_radius'], results[0]['b/a'], results[0]['c/a']\n",
    "y, z = x*p, x*q\n",
    "galaxy = results[0]['remaining_galaxy']\n",
    "gplot.scatter_ellipsoid_3d(galaxy, axis_lengths=(x, y, z))"
   ]
  },
  {
   "cell_type": "code",
   "execution_count": null,
   "id": "41d2dd58-7a98-4893-8c19-6345dda3155b",
   "metadata": {},
   "outputs": [],
   "source": [
    "# test notebook\n",
    "import plot_galaxy as gplot\n",
    "import mg\n",
    "import os\n",
    "import time\n",
    "import matplotlib.pyplot as plt\n",
    "%matplotlib inline\n",
    "sim_inputs = ['object_297']\n",
    "output_file = 'test.csv'\n",
    "results = mg.find_galaxy_shape3d(sim_inputs, output_file, FIREBox = 1)\n",
    "galaxy = results[0]['remaining_galaxy']"
   ]
  },
  {
   "cell_type": "code",
   "execution_count": null,
   "id": "91155663-26db-4541-86da-93a380447d30",
   "metadata": {},
   "outputs": [],
   "source": [
    "x, p, q = results[0]['max_radius'], results[0]['b/a'], results[0]['c/a']\n",
    "y, z = x*p, x*q\n",
    "galaxy = results[0]['remaining_galaxy']\n",
    "gplot.scatter_ellipsoid_3d(galaxy, axis_lengths=(x, y, z))"
   ]
  },
  {
   "cell_type": "code",
   "execution_count": null,
   "id": "32990478-d4a7-410c-950f-d94580473669",
   "metadata": {},
   "outputs": [],
   "source": []
  }
 ],
 "metadata": {
  "kernelspec": {
   "display_name": "Python 3 (ipykernel)",
   "language": "python",
   "name": "python3"
  },
  "language_info": {
   "codemirror_mode": {
    "name": "ipython",
    "version": 3
   },
   "file_extension": ".py",
   "mimetype": "text/x-python",
   "name": "python",
   "nbconvert_exporter": "python",
   "pygments_lexer": "ipython3",
   "version": "3.9.18"
  }
 },
 "nbformat": 4,
 "nbformat_minor": 5
}
