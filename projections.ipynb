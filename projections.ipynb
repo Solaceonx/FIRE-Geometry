{
 "cells": [
  {
   "cell_type": "code",
   "execution_count": 4,
   "id": "601b4176-8972-4a44-ba4d-6a5047ef1e90",
   "metadata": {},
   "outputs": [],
   "source": [
    "import mg\n",
    "import numpy as np\n",
    "import galaxy_tools\n",
    "import plot_galaxy as gplot\n",
    "import matplotlib.pyplot as plt\n",
    "%matplotlib inline\n",
    "from mpl_toolkits.mplot3d import Axes3D"
   ]
  },
  {
   "cell_type": "code",
   "execution_count": null,
   "id": "0afa2497-16d0-4d7d-b472-6abbe81fe9f2",
   "metadata": {},
   "outputs": [],
   "source": [
    "sim_inputs = ['object_398']\n",
    "output_file = 'object_398.csv'\n",
    "results2 = mg.find_galaxy_shape2d(sim_inputs, output_file, snap_num_input=184, repeats = 10, FIREBox = 1)"
   ]
  },
  {
   "cell_type": "code",
   "execution_count": null,
   "id": "d16ab0f1-e119-4b65-b2b5-2e52c926074a",
   "metadata": {},
   "outputs": [],
   "source": [
    "# Input a galaxy and change 'repeats' to set the number of desired random projections\n",
    "# Note that this returns the projections in xy, yz, zx planes, so 10 repeats => 30 projections\n",
    "sim_inputs = ['m10i_res500']\n",
    "output_file = 'm10i_2d.csv'\n",
    "#sim_path = '/DFS-L/DATA/cosmo/jgmoren1/FIREBox/FB15N1024/objects_1200/object_554'\n",
    "# star_snapdict, gas_snapdict = galaxy_tools.load_sim_FIREBox(sim_path)  \n",
    "\n",
    "results = mg.find_galaxy_shape2d(sim_inputs, output_file, snap_num_input=184, repeats = 10, FIREBox = 0)"
   ]
  }
 ],
 "metadata": {
  "kernelspec": {
   "display_name": "Python 3 (ipykernel)",
   "language": "python",
   "name": "python3"
  },
  "language_info": {
   "codemirror_mode": {
    "name": "ipython",
    "version": 3
   },
   "file_extension": ".py",
   "mimetype": "text/x-python",
   "name": "python",
   "nbconvert_exporter": "python",
   "pygments_lexer": "ipython3",
   "version": "3.9.18"
  }
 },
 "nbformat": 4,
 "nbformat_minor": 5
}
