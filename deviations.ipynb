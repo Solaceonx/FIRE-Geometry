{
 "cells": [
  {
   "cell_type": "code",
   "execution_count": 1,
   "id": "d0acb838-28da-499a-88c9-b56a43ad7f81",
   "metadata": {},
   "outputs": [
    {
     "name": "stdout",
     "output_type": "stream",
     "text": [
      "Missing firefly, obtain it at http://github.com/ageller/Firefly or pip install firefly.\n"
     ]
    }
   ],
   "source": [
    "import plot_galaxy as gplot\n",
    "import mg"
   ]
  },
  {
   "cell_type": "code",
   "execution_count": null,
   "id": "e79a1e22-9511-4e43-a981-9b0e9a475575",
   "metadata": {},
   "outputs": [
    {
     "name": "stderr",
     "output_type": "stream",
     "text": [
      "/export/nfs0home/lyxia/scripts/galaxy_tools.py:211: FutureWarning: The frame.append method is deprecated and will be removed from pandas in a future version. Use pandas.concat instead.\n",
      "  halo = halo.append(halo_hold)\n",
      "/export/nfs0home/lyxia/scripts/galaxy_tools.py:211: FutureWarning: The frame.append method is deprecated and will be removed from pandas in a future version. Use pandas.concat instead.\n",
      "  halo = halo.append(halo_hold)\n",
      "/export/nfs0home/lyxia/scripts/galaxy_tools.py:211: FutureWarning: The frame.append method is deprecated and will be removed from pandas in a future version. Use pandas.concat instead.\n",
      "  halo = halo.append(halo_hold)\n",
      "/export/nfs0home/lyxia/scripts/galaxy_tools.py:211: FutureWarning: The frame.append method is deprecated and will be removed from pandas in a future version. Use pandas.concat instead.\n",
      "  halo = halo.append(halo_hold)\n",
      "/export/nfs0home/lyxia/scripts/galaxy_tools.py:211: FutureWarning: The frame.append method is deprecated and will be removed from pandas in a future version. Use pandas.concat instead.\n",
      "  halo = halo.append(halo_hold)\n",
      "/export/nfs0home/lyxia/scripts/galaxy_tools.py:211: FutureWarning: The frame.append method is deprecated and will be removed from pandas in a future version. Use pandas.concat instead.\n",
      "  halo = halo.append(halo_hold)\n",
      "/export/nfs0home/lyxia/scripts/galaxy_tools.py:211: FutureWarning: The frame.append method is deprecated and will be removed from pandas in a future version. Use pandas.concat instead.\n",
      "  halo = halo.append(halo_hold)\n",
      "/export/nfs0home/lyxia/scripts/galaxy_tools.py:211: FutureWarning: The frame.append method is deprecated and will be removed from pandas in a future version. Use pandas.concat instead.\n",
      "  halo = halo.append(halo_hold)\n",
      "/export/nfs0home/lyxia/scripts/galaxy_tools.py:211: FutureWarning: The frame.append method is deprecated and will be removed from pandas in a future version. Use pandas.concat instead.\n",
      "  halo = halo.append(halo_hold)\n",
      "/export/nfs0home/lyxia/scripts/galaxy_tools.py:211: FutureWarning: The frame.append method is deprecated and will be removed from pandas in a future version. Use pandas.concat instead.\n",
      "  halo = halo.append(halo_hold)\n",
      "/export/nfs0home/lyxia/scripts/galaxy_tools.py:211: FutureWarning: The frame.append method is deprecated and will be removed from pandas in a future version. Use pandas.concat instead.\n",
      "  halo = halo.append(halo_hold)\n",
      "/export/nfs0home/lyxia/scripts/galaxy_tools.py:211: FutureWarning: The frame.append method is deprecated and will be removed from pandas in a future version. Use pandas.concat instead.\n",
      "  halo = halo.append(halo_hold)\n",
      "/export/nfs0home/lyxia/scripts/galaxy_tools.py:211: FutureWarning: The frame.append method is deprecated and will be removed from pandas in a future version. Use pandas.concat instead.\n",
      "  halo = halo.append(halo_hold)\n",
      "/export/nfs0home/lyxia/scripts/galaxy_tools.py:211: FutureWarning: The frame.append method is deprecated and will be removed from pandas in a future version. Use pandas.concat instead.\n",
      "  halo = halo.append(halo_hold)\n",
      "/export/nfs0home/lyxia/scripts/galaxy_tools.py:211: FutureWarning: The frame.append method is deprecated and will be removed from pandas in a future version. Use pandas.concat instead.\n",
      "  halo = halo.append(halo_hold)\n",
      "/export/nfs0home/lyxia/scripts/galaxy_tools.py:211: FutureWarning: The frame.append method is deprecated and will be removed from pandas in a future version. Use pandas.concat instead.\n",
      "  halo = halo.append(halo_hold)\n",
      "/export/nfs0home/lyxia/scripts/galaxy_tools.py:211: FutureWarning: The frame.append method is deprecated and will be removed from pandas in a future version. Use pandas.concat instead.\n",
      "  halo = halo.append(halo_hold)\n",
      "/export/nfs0home/lyxia/scripts/galaxy_tools.py:211: FutureWarning: The frame.append method is deprecated and will be removed from pandas in a future version. Use pandas.concat instead.\n",
      "  halo = halo.append(halo_hold)\n",
      "/export/nfs0home/lyxia/scripts/galaxy_tools.py:211: FutureWarning: The frame.append method is deprecated and will be removed from pandas in a future version. Use pandas.concat instead.\n",
      "  halo = halo.append(halo_hold)\n",
      "/export/nfs0home/lyxia/scripts/galaxy_tools.py:211: FutureWarning: The frame.append method is deprecated and will be removed from pandas in a future version. Use pandas.concat instead.\n",
      "  halo = halo.append(halo_hold)\n",
      "/export/nfs0home/lyxia/scripts/galaxy_tools.py:211: FutureWarning: The frame.append method is deprecated and will be removed from pandas in a future version. Use pandas.concat instead.\n",
      "  halo = halo.append(halo_hold)\n"
     ]
    }
   ],
   "source": [
    "sim_inputs = ['m10d_res500']\n",
    "snap_num_input = 184\n",
    "\n",
    "for i in range(9):\n",
    "    j = 10-i-1\n",
    "    output_file = 'm10d_pf' + str(j) + '.csv'\n",
    "    pf = [0.1*j]\n",
    "    results = mg.find_galaxy_shape3d(sim_inputs, output_file, snap_num_input, particle_fractions = pf, repeats = 10)\n",
    "\n",
    "for i in range(4):\n",
    "    j = 2*(5 - i - 1) # 8, 4, 6, 2\n",
    "    pf = [0.01*j]\n",
    "    output_file = 'm10d_pf0' + str(j) + '.csv'\n",
    "    results = mg.find_galaxy_shape3d(sim_inputs, output_file, snap_num_input, particle_fractions = pf, repeats = 10)"
   ]
  },
  {
   "cell_type": "code",
   "execution_count": null,
   "id": "f17f1edd-33db-4064-b32c-17b15ce039cf",
   "metadata": {},
   "outputs": [],
   "source": [
    "sim_inputs = ['m10i_res500']\n",
    "snap_num_input = 184\n",
    "\n",
    "for i in range(9):\n",
    "    j = 10-i-1\n",
    "    output_file = 'm10i_pf' + str(j) + '.csv'\n",
    "    pf = [0.1*j]\n",
    "    results = mg.find_galaxy_shape3d(sim_inputs, output_file, snap_num_input, particle_fractions = pf, repeats = 100)\n",
    "\n",
    "for i in range(4):\n",
    "    j = 2*(5 - i - 1) # 8, 4, 6, 2\n",
    "    pf = [0.01*j]\n",
    "    output_file = 'm10i_pf0' + str(j) + '.csv'\n",
    "    results = mg.find_galaxy_shape3d(sim_inputs, output_file, snap_num_input, particle_fractions = pf, repeats = 100)"
   ]
  },
  {
   "cell_type": "code",
   "execution_count": null,
   "id": "d1739800-79b9-4af8-bbf2-24b61d081a9b",
   "metadata": {},
   "outputs": [],
   "source": [
    "sim_inputs = ['m11c_res2100']\n",
    "snap_num_input = 600\n",
    "for i in range(1):\n",
    "    j = 10-i-1\n",
    "    output_file = 'm11c_pf' + str(j) + '.csv'\n",
    "    pf = [0.1*j]\n",
    "    results = mg.find_galaxy_shape3d(sim_inputs, output_file, snap_num_input, particle_fractions = pf, repeats = 100)"
   ]
  },
  {
   "cell_type": "code",
   "execution_count": null,
   "id": "afb9e24a-0743-476a-87b7-02b6d51fe236",
   "metadata": {},
   "outputs": [],
   "source": [
    "sim_inputs = ['m11c_res2100']\n",
    "snap_num_input = 600\n",
    "for i in range(5):\n",
    "    j = 6-i\n",
    "    output_file = 'm11c_pf' + str(j) + '.csv'\n",
    "    pf = [0.000277777777777*j]\n",
    "    results = mg.find_galaxy_shape3d(sim_inputs, output_file, snap_num_input, particle_fractions = pf, repeats = 100)"
   ]
  },
  {
   "cell_type": "code",
   "execution_count": null,
   "id": "99d699f0-936c-4dc6-96ef-0db051243e5c",
   "metadata": {},
   "outputs": [],
   "source": []
  }
 ],
 "metadata": {
  "kernelspec": {
   "display_name": "Python 3 (ipykernel)",
   "language": "python",
   "name": "python3"
  },
  "language_info": {
   "codemirror_mode": {
    "name": "ipython",
    "version": 3
   },
   "file_extension": ".py",
   "mimetype": "text/x-python",
   "name": "python",
   "nbconvert_exporter": "python",
   "pygments_lexer": "ipython3",
   "version": "3.9.18"
  }
 },
 "nbformat": 4,
 "nbformat_minor": 5
}
